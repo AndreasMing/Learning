{
  "cells": [
    {
      "cell_type": "markdown",
      "metadata": {
        "id": "view-in-github",
        "colab_type": "text"
      },
      "source": [
        "<a href=\"https://colab.research.google.com/github/AndreasMing/Learning/blob/main/NeuralnetsWithMicrograd.ipynb\" target=\"_parent\"><img src=\"https://colab.research.google.com/assets/colab-badge.svg\" alt=\"Open In Colab\"/></a>"
      ]
    },
    {
      "cell_type": "markdown",
      "id": "be0cf6ce-3046-4482-adf9-af442d6e89a8",
      "metadata": {
        "id": "be0cf6ce-3046-4482-adf9-af442d6e89a8"
      },
      "source": [
        "# Neural nets with micrograd\n",
        "This is a Notebook to the free lecture [The spelled-out intro to neural networks and backpropagation: building micrograd](https://youtu.be/VMj-3S1tku0) by [Andrey Karpathy](https://github.com/karpathy)."
      ]
    },
    {
      "cell_type": "code",
      "execution_count": 2,
      "id": "234da7e8-2a8b-4a93-a5ad-ef80adba1fee",
      "metadata": {
        "id": "234da7e8-2a8b-4a93-a5ad-ef80adba1fee"
      },
      "outputs": [],
      "source": [
        "import math\n",
        "import numpy as np\n",
        "import matplotlib.pyplot as plt\n",
        "%matplotlib inline"
      ]
    },
    {
      "cell_type": "markdown",
      "source": [
        "# Understanding the derivativ"
      ],
      "metadata": {
        "id": "mMR5kSzShP2a"
      },
      "id": "mMR5kSzShP2a"
    },
    {
      "cell_type": "markdown",
      "source": [
        "## Derivative of a function with a single input"
      ],
      "metadata": {
        "id": "ArH-d8M3okcg"
      },
      "id": "ArH-d8M3okcg"
    },
    {
      "cell_type": "markdown",
      "source": [
        "$$3x^2 - 4x + 5$$"
      ],
      "metadata": {
        "id": "_1AGn8VGn6Bv"
      },
      "id": "_1AGn8VGn6Bv"
    },
    {
      "cell_type": "code",
      "source": [
        "def f(x):\n",
        "  return 3*x**2 - 4*x +5"
      ],
      "metadata": {
        "id": "CwAf8NNGg8AV"
      },
      "id": "CwAf8NNGg8AV",
      "execution_count": 3,
      "outputs": []
    },
    {
      "cell_type": "code",
      "source": [
        "f(3.0)"
      ],
      "metadata": {
        "colab": {
          "base_uri": "https://localhost:8080/"
        },
        "id": "OGvJdqAKhwb_",
        "outputId": "090591b4-495d-45d6-8020-fe0dde08c68e"
      },
      "id": "OGvJdqAKhwb_",
      "execution_count": 5,
      "outputs": [
        {
          "output_type": "execute_result",
          "data": {
            "text/plain": [
              "20.0"
            ]
          },
          "metadata": {},
          "execution_count": 5
        }
      ]
    },
    {
      "cell_type": "code",
      "source": [
        "xs = np.arange(-5, 5, 0.25)\n",
        "ys = f(xs)\n",
        "plt.plot(xs, ys)"
      ],
      "metadata": {
        "colab": {
          "base_uri": "https://localhost:8080/",
          "height": 282
        },
        "id": "wUC-yjagiBkS",
        "outputId": "86514456-0efe-4e63-edf9-c7ef46afcff4"
      },
      "id": "wUC-yjagiBkS",
      "execution_count": 8,
      "outputs": [
        {
          "output_type": "execute_result",
          "data": {
            "text/plain": [
              "[<matplotlib.lines.Line2D at 0x7fb2810734d0>]"
            ]
          },
          "metadata": {},
          "execution_count": 8
        },
        {
          "output_type": "display_data",
          "data": {
            "text/plain": [
              "<Figure size 432x288 with 1 Axes>"
            ],
            "image/png": "[encoded data removed]"
          },
          "metadata": {
            "needs_background": "light"
          }
        }
      ]
    },
    {
      "cell_type": "markdown",
      "source": [
        "Normally derivatives are derived directly from the mathematical expression of the base function. This is not done with neural networks. The fundemental definition of a derivative is stated as follows:\n",
        "\n",
        "$$\\frac{dy}{dx} = \\lim_{h\\to 0}\\frac{f(x+h) - f(x)}{h}$$\n",
        "\n",
        "By knowing this, the derivative can be derived by changeing the input by a small amount. Per definition the step of $h$ would be infinitly small.\n"
      ],
      "metadata": {
        "id": "u0Gsut_mih9t"
      },
      "id": "u0Gsut_mih9t"
    },
    {
      "cell_type": "code",
      "source": [
        "h = 0.001\n",
        "x = 3.0         # derviative at this point\n",
        "print('x = ', x, ' h = ', h)\n",
        "print('f(x) = ', f(x))\n",
        "print('f(x + h) = ', f(x + h))\n",
        "print('dy/dx = ', (f(x+h)-f(x))/h)"
      ],
      "metadata": {
        "colab": {
          "base_uri": "https://localhost:8080/"
        },
        "id": "PvS4tQRDmeSr",
        "outputId": "979a5d49-ab00-4271-fa7e-f32af4fa1209"
      },
      "id": "PvS4tQRDmeSr",
      "execution_count": 15,
      "outputs": [
        {
          "output_type": "stream",
          "name": "stdout",
          "text": [
            "x =  3.0  h =  0.001\n",
            "f(x) =  20.0\n",
            "f(x + h) =  20.014003000000002\n",
            "dy/dx =  14.00300000000243\n"
          ]
        }
      ]
    },
    {
      "cell_type": "markdown",
      "source": [
        "## Derivative of a function with multiple inputs\n",
        "Functions with a single input are fairly easy to derive mathematically, this changes with functions with multiple inputs and neural nets have many of them."
      ],
      "metadata": {
        "id": "gqNE0flnoqXL"
      },
      "id": "gqNE0flnoqXL"
    },
    {
      "cell_type": "code",
      "source": [
        "h = 0.001\n",
        "\n",
        "# inputs (Point of derivation)\n",
        "a = 2.0\n",
        "b = -3.0\n",
        "c = 10.0\n",
        "\n",
        "# function\n",
        "def f(a, b, c):\n",
        " return a*b + c\n",
        "\n",
        "# derive\n",
        "d1 = f(a, b, c)\n",
        "print('d1 = ', d1)\n",
        "c += h              # with respect to\n",
        "d2 = f(a, b, c)\n",
        "print('d2 = ', d2)\n",
        "print('slope = ', (d2-d1)/h)"
      ],
      "metadata": {
        "colab": {
          "base_uri": "https://localhost:8080/"
        },
        "id": "JJTLgYeYovwx",
        "outputId": "5ab49b02-9c04-4930-e4c9-1cd37e9e62ec"
      },
      "id": "JJTLgYeYovwx",
      "execution_count": 21,
      "outputs": [
        {
          "output_type": "stream",
          "name": "stdout",
          "text": [
            "d1 =  4.0\n",
            "d2 =  4.0009999999999994\n",
            "slope =  0.9999999999994458\n"
          ]
        }
      ]
    },
    {
      "cell_type": "markdown",
      "source": [
        "# Value class in micrograd"
      ],
      "metadata": {
        "id": "purOuVzkuYAB"
      },
      "id": "purOuVzkuYAB"
    },
    {
      "cell_type": "markdown",
      "source": [
        "Micrograd provides a class *Value* for easy implementation and tracking of neural propagation. It initialy behaves as a normal scalar.\n",
        "\n",
        "* Attribute ``data`` consists of the scalar value\n",
        "* ``_prev`` provides a linked list along all of the operations\n",
        "* ``_op`` stores the operation which lead to this node\n",
        "* ``label`` is for visualization and documentation purposes for the function ``draw_dot()`` later on\n",
        "* ``grad`` is the derivative in respect to a inputchange\n",
        "\n",
        "**``grad``** describes how the output of a linked list of operations changes with the changes of the value of the corresponding node. The determination of these values is called **backpropagation**.\n",
        "\n"
      ],
      "metadata": {
        "id": "wBNmHLvypPy7"
      },
      "id": "wBNmHLvypPy7"
    },
    {
      "cell_type": "code",
      "source": [
        "class Value:\n",
        "\n",
        "  def __init__(self, data, _children=(), _op='', label = ''):# provide values for the attributes at runtime\n",
        "    self.data = data\n",
        "    self.grad = 0.0                 # affection of this value to the output\n",
        "    self._prev = set(_children)     # children variable keeps track of the values\n",
        "                                    # which lead to this result\n",
        "    self._op = _op                  # keeps track of the operations\n",
        "    self.label = label              # for visualization purposes\n",
        "\n",
        "  def __repr__(self):             # overwrites the standard return of the object\n",
        "    return f\"Value(data={self.data})\"\n",
        "\n",
        "  def __add__(self, other):       # what to do if two value objects are added\n",
        "    return Value(self.data + other.data, (self, other), '+')\n",
        "\n",
        "  def __mul__(self, other):       # what to do if two value objects are multiplied\n",
        "    return Value(self.data * other.data, (self, other), '*')"
      ],
      "metadata": {
        "id": "eTvITsraSYKy"
      },
      "id": "eTvITsraSYKy",
      "execution_count": 50,
      "outputs": []
    },
    {
      "cell_type": "code",
      "source": [
        "# testing\n",
        "a = Value(3.0, label = 'a')\n",
        "b = Value(-5.0, label = 'b')\n",
        "c = Value(10.0, label = 'c')\n",
        "d = a*b; d.label = 'd'\n",
        "e = d+c; e.label = 'e'\n",
        "f = Value(3.2, label = 'f')\n",
        "L = e*f; L.label = 'L'\n",
        "print('L: \\t', L)\n",
        "print('_prev:\\t', L._prev)\n",
        "print('_op: \\t', L._op)"
      ],
      "metadata": {
        "id": "Ma6InciAqQlp",
        "outputId": "071fd14a-5b1a-4eb2-9aa9-0337282ccd11",
        "colab": {
          "base_uri": "https://localhost:8080/"
        }
      },
      "id": "Ma6InciAqQlp",
      "execution_count": 52,
      "outputs": [
        {
          "output_type": "stream",
          "name": "stdout",
          "text": [
            "L: \t Value(data=-16.0)\n",
            "_prev:\t {Value(data=-5.0), Value(data=3.2)}\n",
            "_op: \t *\n"
          ]
        }
      ]
    },
    {
      "cell_type": "markdown",
      "source": [
        "## Vizualisation\n",
        "See [Sourcecode](https://github.com/karpathy/micrograd/blob/master/trace_graph.ipynb)"
      ],
      "metadata": {
        "id": "DEer_dW6ZfdM"
      },
      "id": "DEer_dW6ZfdM"
    },
    {
      "cell_type": "code",
      "source": [
        "from graphviz import Digraph\n",
        "\n",
        "def trace(root):\n",
        "  # builds a set of all nodes and edges in a graph\n",
        "  nodes, edges = set(), set()\n",
        "  def build(v):\n",
        "    if v not in nodes:\n",
        "      nodes.add(v)\n",
        "      for child in v._prev:\n",
        "        edges.add((child, v))\n",
        "        build(child)\n",
        "  build(root)\n",
        "  return nodes, edges\n",
        "\n",
        "def draw_dot(root):\n",
        "  dot = Digraph(format='svg', graph_attr={'rankdir': 'LR'}) # LR = left to right\n",
        "  \n",
        "  nodes, edges = trace(root)\n",
        "  for n in nodes:\n",
        "    uid = str(id(n))\n",
        "    # for any value in the graph, create a rectangular ('record') node for it\n",
        "    dot.node(name = uid, label = \"{ %s | data %.4f | grad %.4f }\" % (n.label, n.data, n.grad), shape='record')\n",
        "    if n._op:\n",
        "      # if this value is a result of some operation, create an op node for it\n",
        "      dot.node(name = uid + n._op, label = n._op)\n",
        "      # and connect this node to it\n",
        "      dot.edge(uid + n._op, uid)\n",
        "\n",
        "  for n1, n2 in edges:\n",
        "    # connect n1 to the op node of n2\n",
        "    dot.edge(str(id(n1)), str(id(n2)) + n2._op)\n",
        "\n",
        "  return dot"
      ],
      "metadata": {
        "id": "n3FU-Y7QTiWE"
      },
      "id": "n3FU-Y7QTiWE",
      "execution_count": 45,
      "outputs": []
    },
    {
      "cell_type": "markdown",
      "source": [
        "$a$ and $b$ are acting as node inputs, where as $c$ to $f$ act as the weights within the neural net. $grad$ describes how a valuechange of the corresponding node is influencing the output value."
      ],
      "metadata": {
        "id": "WNWoBHj-pwlw"
      },
      "id": "WNWoBHj-pwlw"
    },
    {
      "cell_type": "code",
      "source": [
        "draw_dot(L)"
      ],
      "metadata": {
        "colab": {
          "base_uri": "https://localhost:8080/",
          "height": 246
        },
        "id": "R_oqQh5_dYwX",
        "outputId": "d3d7acd9-3623-4d3b-f17b-dbe820942afb"
      },
      "id": "R_oqQh5_dYwX",
      "execution_count": 59,
      "outputs": [
        {
          "output_type": "execute_result",
          "data": {
            "text/plain": [
              "<graphviz.dot.Digraph at 0x7fb7e3d50410>"
            ],
            "image/svg+xml": "<?xml version=\"1.0\" encoding=\"UTF-8\" standalone=\"no\"?>\n<!DOCTYPE svg PUBLIC \"-//W3C//DTD SVG 1.1//EN\"\n \"http://www.w3.org/Graphics/SVG/1.1/DTD/svg11.dtd\">\n<!-- Generated by graphviz version 2.40.1 (20161225.0304)\n -->\n<!-- Title: %3 Pages: 1 -->\n<svg width=\"1210pt\" height=\"154pt\"\n viewBox=\"0.00 0.00 1210.00 154.00\" xmlns=\"http://www.w3.org/2000/svg\" xmlns:xlink=\"http://www.w3.org/1999/xlink\">\n<g id=\"graph0\" class=\"graph\" transform=\"scale(1 1) rotate(0) translate(4 150)\">\n<title>%3</title>\n<polygon fill=\"#ffffff\" stroke=\"transparent\" points=\"-4,4 -4,-150 1206,-150 1206,4 -4,4\"/>\n<!-- 140427778132496 -->\n<g id=\"node1\" class=\"node\">\n<title>140427778132496</title>\n<polygon fill=\"none\" stroke=\"#000000\" points=\"667,-54.5 667,-90.5 866,-90.5 866,-54.5 667,-54.5\"/>\n<text text-anchor=\"middle\" x=\"678.5\" y=\"-68.8\" font-family=\"Times,serif\" font-size=\"14.00\" fill=\"#000000\">e</text>\n<polyline fill=\"none\" stroke=\"#000000\" points=\"690,-54.5 690,-90.5 \"/>\n<text text-anchor=\"middle\" x=\"734.5\" y=\"-68.8\" font-family=\"Times,serif\" font-size=\"14.00\" fill=\"#000000\">data &#45;5.0000</text>\n<polyline fill=\"none\" stroke=\"#000000\" points=\"779,-54.5 779,-90.5 \"/>\n<text text-anchor=\"middle\" x=\"822.5\" y=\"-68.8\" font-family=\"Times,serif\" font-size=\"14.00\" fill=\"#000000\">grad 3.2000</text>\n</g>\n<!-- 140427778133200* -->\n<g id=\"node8\" class=\"node\">\n<title>140427778133200*</title>\n<ellipse fill=\"none\" stroke=\"#000000\" cx=\"929\" cy=\"-99.5\" rx=\"27\" ry=\"18\"/>\n<text text-anchor=\"middle\" x=\"929\" y=\"-95.8\" font-family=\"Times,serif\" font-size=\"14.00\" fill=\"#000000\">*</text>\n</g>\n<!-- 140427778132496&#45;&gt;140427778133200* -->\n<g id=\"edge4\" class=\"edge\">\n<title>140427778132496&#45;&gt;140427778133200*</title>\n<path fill=\"none\" stroke=\"#000000\" d=\"M866.1733,-89.0611C875.492,-90.6094 884.4694,-92.1011 892.5793,-93.4486\"/>\n<polygon fill=\"#000000\" stroke=\"#000000\" points=\"892.2584,-96.9431 902.6968,-95.1296 893.4058,-90.0378 892.2584,-96.9431\"/>\n</g>\n<!-- 140427778132496+ -->\n<g id=\"node2\" class=\"node\">\n<title>140427778132496+</title>\n<ellipse fill=\"none\" stroke=\"#000000\" cx=\"604\" cy=\"-72.5\" rx=\"27\" ry=\"18\"/>\n<text text-anchor=\"middle\" x=\"604\" y=\"-68.8\" font-family=\"Times,serif\" font-size=\"14.00\" fill=\"#000000\">+</text>\n</g>\n<!-- 140427778132496+&#45;&gt;140427778132496 -->\n<g id=\"edge1\" class=\"edge\">\n<title>140427778132496+&#45;&gt;140427778132496</title>\n<path fill=\"none\" stroke=\"#000000\" d=\"M631.1988,-72.5C638.6966,-72.5 647.3182,-72.5 656.5023,-72.5\"/>\n<polygon fill=\"#000000\" stroke=\"#000000\" points=\"656.6624,-76.0001 666.6624,-72.5 656.6624,-69.0001 656.6624,-76.0001\"/>\n</g>\n<!-- 140427778130512 -->\n<g id=\"node3\" class=\"node\">\n<title>140427778130512</title>\n<polygon fill=\"none\" stroke=\"#000000\" points=\"336,-82.5 336,-118.5 538,-118.5 538,-82.5 336,-82.5\"/>\n<text text-anchor=\"middle\" x=\"347.5\" y=\"-96.8\" font-family=\"Times,serif\" font-size=\"14.00\" fill=\"#000000\">c</text>\n<polyline fill=\"none\" stroke=\"#000000\" points=\"359,-82.5 359,-118.5 \"/>\n<text text-anchor=\"middle\" x=\"405\" y=\"-96.8\" font-family=\"Times,serif\" font-size=\"14.00\" fill=\"#000000\">data 10.0000</text>\n<polyline fill=\"none\" stroke=\"#000000\" points=\"451,-82.5 451,-118.5 \"/>\n<text text-anchor=\"middle\" x=\"494.5\" y=\"-96.8\" font-family=\"Times,serif\" font-size=\"14.00\" fill=\"#000000\">grad 3.2000</text>\n</g>\n<!-- 140427778130512&#45;&gt;140427778132496+ -->\n<g id=\"edge9\" class=\"edge\">\n<title>140427778130512&#45;&gt;140427778132496+</title>\n<path fill=\"none\" stroke=\"#000000\" d=\"M538.4765,-83.486C548.8837,-81.741 558.8999,-80.0617 567.8359,-78.5634\"/>\n<polygon fill=\"#000000\" stroke=\"#000000\" points=\"568.5051,-82.0002 577.7886,-76.8947 567.3475,-75.0966 568.5051,-82.0002\"/>\n</g>\n<!-- 140427778133072 -->\n<g id=\"node4\" class=\"node\">\n<title>140427778133072</title>\n<polygon fill=\"none\" stroke=\"#000000\" points=\"667.5,-109.5 667.5,-145.5 865.5,-145.5 865.5,-109.5 667.5,-109.5\"/>\n<text text-anchor=\"middle\" x=\"678\" y=\"-123.8\" font-family=\"Times,serif\" font-size=\"14.00\" fill=\"#000000\">f</text>\n<polyline fill=\"none\" stroke=\"#000000\" points=\"688.5,-109.5 688.5,-145.5 \"/>\n<text text-anchor=\"middle\" x=\"731\" y=\"-123.8\" font-family=\"Times,serif\" font-size=\"14.00\" fill=\"#000000\">data 3.2000</text>\n<polyline fill=\"none\" stroke=\"#000000\" points=\"773.5,-109.5 773.5,-145.5 \"/>\n<text text-anchor=\"middle\" x=\"819.5\" y=\"-123.8\" font-family=\"Times,serif\" font-size=\"14.00\" fill=\"#000000\">grad &#45;5.0000</text>\n</g>\n<!-- 140427778133072&#45;&gt;140427778133200* -->\n<g id=\"edge8\" class=\"edge\">\n<title>140427778133072&#45;&gt;140427778133200*</title>\n<path fill=\"none\" stroke=\"#000000\" d=\"M865.708,-110.4057C875.2791,-108.7565 884.5003,-107.1676 892.8035,-105.7369\"/>\n<polygon fill=\"#000000\" stroke=\"#000000\" points=\"893.5268,-109.164 902.7872,-104.0167 892.3381,-102.2656 893.5268,-109.164\"/>\n</g>\n<!-- 140427778130576 -->\n<g id=\"node5\" class=\"node\">\n<title>140427778130576</title>\n<polygon fill=\"none\" stroke=\"#000000\" points=\"0,-55.5 0,-91.5 207,-91.5 207,-55.5 0,-55.5\"/>\n<text text-anchor=\"middle\" x=\"11.5\" y=\"-69.8\" font-family=\"Times,serif\" font-size=\"14.00\" fill=\"#000000\">a</text>\n<polyline fill=\"none\" stroke=\"#000000\" points=\"23,-55.5 23,-91.5 \"/>\n<text text-anchor=\"middle\" x=\"65.5\" y=\"-69.8\" font-family=\"Times,serif\" font-size=\"14.00\" fill=\"#000000\">data 3.0000</text>\n<polyline fill=\"none\" stroke=\"#000000\" points=\"108,-55.5 108,-91.5 \"/>\n<text text-anchor=\"middle\" x=\"157.5\" y=\"-69.8\" font-family=\"Times,serif\" font-size=\"14.00\" fill=\"#000000\">grad &#45;16.0000</text>\n</g>\n<!-- 140427778131792* -->\n<g id=\"node10\" class=\"node\">\n<title>140427778131792*</title>\n<ellipse fill=\"none\" stroke=\"#000000\" cx=\"270\" cy=\"-45.5\" rx=\"27\" ry=\"18\"/>\n<text text-anchor=\"middle\" x=\"270\" y=\"-41.8\" font-family=\"Times,serif\" font-size=\"14.00\" fill=\"#000000\">*</text>\n</g>\n<!-- 140427778130576&#45;&gt;140427778131792* -->\n<g id=\"edge6\" class=\"edge\">\n<title>140427778130576&#45;&gt;140427778131792*</title>\n<path fill=\"none\" stroke=\"#000000\" d=\"M207.0535,-56.0856C216.5392,-54.4904 225.6504,-52.9582 233.8524,-51.5789\"/>\n<polygon fill=\"#000000\" stroke=\"#000000\" points=\"234.4341,-55.0303 243.7152,-49.9203 233.2732,-48.1272 234.4341,-55.0303\"/>\n</g>\n<!-- 140427778133648 -->\n<g id=\"node6\" class=\"node\">\n<title>140427778133648</title>\n<polygon fill=\"none\" stroke=\"#000000\" points=\"3.5,-.5 3.5,-36.5 203.5,-36.5 203.5,-.5 3.5,-.5\"/>\n<text text-anchor=\"middle\" x=\"15.5\" y=\"-14.8\" font-family=\"Times,serif\" font-size=\"14.00\" fill=\"#000000\">b</text>\n<polyline fill=\"none\" stroke=\"#000000\" points=\"27.5,-.5 27.5,-36.5 \"/>\n<text text-anchor=\"middle\" x=\"72\" y=\"-14.8\" font-family=\"Times,serif\" font-size=\"14.00\" fill=\"#000000\">data &#45;5.0000</text>\n<polyline fill=\"none\" stroke=\"#000000\" points=\"116.5,-.5 116.5,-36.5 \"/>\n<text text-anchor=\"middle\" x=\"160\" y=\"-14.8\" font-family=\"Times,serif\" font-size=\"14.00\" fill=\"#000000\">grad 9.6000</text>\n</g>\n<!-- 140427778133648&#45;&gt;140427778131792* -->\n<g id=\"edge7\" class=\"edge\">\n<title>140427778133648&#45;&gt;140427778131792*</title>\n<path fill=\"none\" stroke=\"#000000\" d=\"M203.7164,-34.7513C214.3097,-36.4691 224.5203,-38.1249 233.6221,-39.6009\"/>\n<polygon fill=\"#000000\" stroke=\"#000000\" points=\"233.3226,-43.098 243.7539,-41.2439 234.4431,-36.1882 233.3226,-43.098\"/>\n</g>\n<!-- 140427778133200 -->\n<g id=\"node7\" class=\"node\">\n<title>140427778133200</title>\n<polygon fill=\"none\" stroke=\"#000000\" points=\"992,-81.5 992,-117.5 1202,-117.5 1202,-81.5 992,-81.5\"/>\n<text text-anchor=\"middle\" x=\"1005\" y=\"-95.8\" font-family=\"Times,serif\" font-size=\"14.00\" fill=\"#000000\">L</text>\n<polyline fill=\"none\" stroke=\"#000000\" points=\"1018,-81.5 1018,-117.5 \"/>\n<text text-anchor=\"middle\" x=\"1066.5\" y=\"-95.8\" font-family=\"Times,serif\" font-size=\"14.00\" fill=\"#000000\">data &#45;16.0000</text>\n<polyline fill=\"none\" stroke=\"#000000\" points=\"1115,-81.5 1115,-117.5 \"/>\n<text text-anchor=\"middle\" x=\"1158.5\" y=\"-95.8\" font-family=\"Times,serif\" font-size=\"14.00\" fill=\"#000000\">grad 1.0000</text>\n</g>\n<!-- 140427778133200*&#45;&gt;140427778133200 -->\n<g id=\"edge2\" class=\"edge\">\n<title>140427778133200*&#45;&gt;140427778133200</title>\n<path fill=\"none\" stroke=\"#000000\" d=\"M956.366,-99.5C963.8769,-99.5 972.5185,-99.5 981.7472,-99.5\"/>\n<polygon fill=\"#000000\" stroke=\"#000000\" points=\"981.9659,-103.0001 991.9659,-99.5 981.9658,-96.0001 981.9659,-103.0001\"/>\n</g>\n<!-- 140427778131792 -->\n<g id=\"node9\" class=\"node\">\n<title>140427778131792</title>\n<polygon fill=\"none\" stroke=\"#000000\" points=\"333,-27.5 333,-63.5 541,-63.5 541,-27.5 333,-27.5\"/>\n<text text-anchor=\"middle\" x=\"345\" y=\"-41.8\" font-family=\"Times,serif\" font-size=\"14.00\" fill=\"#000000\">d</text>\n<polyline fill=\"none\" stroke=\"#000000\" points=\"357,-27.5 357,-63.5 \"/>\n<text text-anchor=\"middle\" x=\"405.5\" y=\"-41.8\" font-family=\"Times,serif\" font-size=\"14.00\" fill=\"#000000\">data &#45;15.0000</text>\n<polyline fill=\"none\" stroke=\"#000000\" points=\"454,-27.5 454,-63.5 \"/>\n<text text-anchor=\"middle\" x=\"497.5\" y=\"-41.8\" font-family=\"Times,serif\" font-size=\"14.00\" fill=\"#000000\">grad 3.2000</text>\n</g>\n<!-- 140427778131792&#45;&gt;140427778132496+ -->\n<g id=\"edge5\" class=\"edge\">\n<title>140427778131792&#45;&gt;140427778132496+</title>\n<path fill=\"none\" stroke=\"#000000\" d=\"M541.3402,-62.3694C550.6006,-63.8666 559.4956,-65.3047 567.5289,-66.6035\"/>\n<polygon fill=\"#000000\" stroke=\"#000000\" points=\"567.1209,-70.0829 577.5513,-68.2239 568.2382,-63.1726 567.1209,-70.0829\"/>\n</g>\n<!-- 140427778131792*&#45;&gt;140427778131792 -->\n<g id=\"edge3\" class=\"edge\">\n<title>140427778131792*&#45;&gt;140427778131792</title>\n<path fill=\"none\" stroke=\"#000000\" d=\"M297.2031,-45.5C304.7372,-45.5 313.4158,-45.5 322.6835,-45.5\"/>\n<polygon fill=\"#000000\" stroke=\"#000000\" points=\"322.945,-49.0001 332.945,-45.5 322.9449,-42.0001 322.945,-49.0001\"/>\n</g>\n</g>\n</svg>\n"
          },
          "metadata": {},
          "execution_count": 59
        }
      ]
    },
    {
      "cell_type": "markdown",
      "source": [
        "## Determination of grad"
      ],
      "metadata": {
        "id": "cJWJgKz4uuoL"
      },
      "id": "cJWJgKz4uuoL"
    },
    {
      "cell_type": "markdown",
      "source": [
        "### Manual backpropagation example #1: simple expression\n",
        "\n",
        "First of we are going to determine the grad values by manual backpropagation:\n",
        "\n",
        "* $grad$ of $L$ will always be $1.0$ because we are calculating $\\frac{dL}{dL} = 1$\n",
        "* $e.gard = \\frac{dL}{de} = \\frac{d}{de}f*e = f$\n",
        "* $f.gard = \\frac{dL}{df} = \\frac{d}{df}f*e = e$\n",
        "\n",
        "*local derivative of the **Sum**-node, because we already know how $e$ is impacting $L$:*\n",
        "* calculate $\\frac{de}{dc} = \\frac{d}{dc}c+d = 1$\n",
        "* and by symmetry $\\frac{de}{dd} = 1$\n",
        "\n",
        "by applying the chainrule: **(Sum-nodes routes the derivative from the upper node to the two adjoining values)**\n",
        "* $c.grad = \\frac{dL}{dc} = \\frac{dL}{de} * \\frac{de}{dc} = e.grad * 1 = e.grad$\n",
        "* $d.grad = \\frac{dL}{dd} = \\frac{dL}{de} * \\frac{de}{dd} = e.grad * 1 = e.grad$\n",
        "\n",
        "*local gradient of **Times**-node: (likewise as on the first node*\n",
        "* $a.gard = \\frac{dd}{da} = \\frac{d}{da}a*b = b$\n",
        "* $b.gard = \\frac{dd}{db} = \\frac{d}{db}a*b = a$\n",
        "\n",
        "by appying the chainrule:\n",
        "* $a.grad = \\frac{dL}{da} = \\frac{dL}{dd} * \\frac{dd}{da} = d.grad * b$\n",
        "* $b.grad = \\frac{dL}{db} = \\frac{dL}{dd} * \\frac{dd}{db} = d.grad * a$"
      ],
      "metadata": {
        "id": "BOf0gcaDvmE1"
      },
      "id": "BOf0gcaDvmE1"
    },
    {
      "cell_type": "code",
      "source": [
        "L.grad = 1\n",
        "e.grad = f.data\n",
        "f.grad = e.data\n",
        "c.grad = e.grad\n",
        "d.grad = e.grad\n",
        "a.grad = d.grad * b.data\n",
        "b.grad = d.grad * a.data\n"
      ],
      "metadata": {
        "id": "vQhnvI5auxzu"
      },
      "id": "vQhnvI5auxzu",
      "execution_count": 58,
      "outputs": []
    }
  ],
  "metadata": {
    "kernelspec": {
      "display_name": "Python 3 (ipykernel)",
      "language": "python",
      "name": "python3"
    },
    "language_info": {
      "codemirror_mode": {
        "name": "ipython",
        "version": 3
      },
      "file_extension": ".py",
      "mimetype": "text/x-python",
      "name": "python",
      "nbconvert_exporter": "python",
      "pygments_lexer": "ipython3",
      "version": "3.9.7"
    },
    "colab": {
      "provenance": [],
      "include_colab_link": true
    }
  },
  "nbformat": 4,
  "nbformat_minor": 5
}