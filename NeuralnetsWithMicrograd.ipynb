{
  "cells": [
    {
      "cell_type": "markdown",
      "metadata": {
        "id": "view-in-github",
        "colab_type": "text"
      },
      "source": [
        "<a href=\"https://colab.research.google.com/github/AndreasMing/Learning/blob/main/NeuralnetsWithMicrograd.ipynb\" target=\"_parent\"><img src=\"https://colab.research.google.com/assets/colab-badge.svg\" alt=\"Open In Colab\"/></a>"
      ]
    },
    {
      "cell_type": "markdown",
      "id": "be0cf6ce-3046-4482-adf9-af442d6e89a8",
      "metadata": {
        "id": "be0cf6ce-3046-4482-adf9-af442d6e89a8"
      },
      "source": [
        "# Neural nets with micrograd\n",
        "This is a Notebook to the free lecture [The spelled-out intro to neural networks and backpropagation: building micrograd](https://youtu.be/VMj-3S1tku0) by [Andrey Karpathy](https://github.com/karpathy)."
      ]
    },
    {
      "cell_type": "code",
      "execution_count": 3,
      "id": "234da7e8-2a8b-4a93-a5ad-ef80adba1fee",
      "metadata": {
        "id": "234da7e8-2a8b-4a93-a5ad-ef80adba1fee"
      },
      "outputs": [],
      "source": [
        "import math\n",
        "import numpy as np\n",
        "import matplotlib.pyplot as plt\n",
        "%matplotlib inline"
      ]
    },
    {
      "cell_type": "markdown",
      "source": [
        "# Understanding the derivative"
      ],
      "metadata": {
        "id": "mMR5kSzShP2a"
      },
      "id": "mMR5kSzShP2a"
    },
    {
      "cell_type": "markdown",
      "source": [
        "## Derivative of a function with a single input"
      ],
      "metadata": {
        "id": "ArH-d8M3okcg"
      },
      "id": "ArH-d8M3okcg"
    },
    {
      "cell_type": "markdown",
      "source": [
        "$$3x^2 - 4x + 5$$"
      ],
      "metadata": {
        "id": "_1AGn8VGn6Bv"
      },
      "id": "_1AGn8VGn6Bv"
    },
    {
      "cell_type": "code",
      "source": [
        "def f(x):\n",
        "  return 3*x**2 - 4*x +5"
      ],
      "metadata": {
        "id": "CwAf8NNGg8AV"
      },
      "id": "CwAf8NNGg8AV",
      "execution_count": 4,
      "outputs": []
    },
    {
      "cell_type": "code",
      "source": [
        "f(3.0)"
      ],
      "metadata": {
        "colab": {
          "base_uri": "https://localhost:8080/"
        },
        "id": "OGvJdqAKhwb_",
        "outputId": "fbc247ee-8ebc-48b6-f443-e05b461d2114"
      },
      "id": "OGvJdqAKhwb_",
      "execution_count": 5,
      "outputs": [
        {
          "output_type": "execute_result",
          "data": {
            "text/plain": [
              "20.0"
            ]
          },
          "metadata": {},
          "execution_count": 5
        }
      ]
    },
    {
      "cell_type": "code",
      "source": [
        "xs = np.arange(-5, 5, 0.25)\n",
        "ys = f(xs)\n",
        "plt.plot(xs, ys)"
      ],
      "metadata": {
        "colab": {
          "base_uri": "https://localhost:8080/",
          "height": 282
        },
        "id": "wUC-yjagiBkS",
        "outputId": "673412d7-ca08-4d5a-baf7-49e25098dfdd"
      },
      "id": "wUC-yjagiBkS",
      "execution_count": 6,
      "outputs": [
        {
          "output_type": "execute_result",
          "data": {
            "text/plain": [
              "[<matplotlib.lines.Line2D at 0x7f8c34023d50>]"
            ]
          },
          "metadata": {},
          "execution_count": 6
        },
        {
          "output_type": "display_data",
          "data": {
            "text/plain": [
              "<Figure size 432x288 with 1 Axes>"
            ],
            "image/png": "[encoded data removed]"
          },
          "metadata": {
            "needs_background": "light"
          }
        }
      ]
    },
    {
      "cell_type": "markdown",
      "source": [
        "Normally derivatives are derived directly from the mathematical expression of the base function. This is not done with neural networks. The fundemental definition of a derivative is stated as follows:\n",
        "\n",
        "$$\\frac{dy}{dx} = \\lim_{h\\to 0}\\frac{f(x+h) - f(x)}{h}$$\n",
        "\n",
        "By knowing this, the derivative can be derived by changeing the input by a small amount. Per definition the step of $h$ would be infinitly small.\n"
      ],
      "metadata": {
        "id": "u0Gsut_mih9t"
      },
      "id": "u0Gsut_mih9t"
    },
    {
      "cell_type": "code",
      "source": [
        "h = 0.001\n",
        "x = 3.0         # derviative at this point\n",
        "print('x = ', x, ' h = ', h)\n",
        "print('f(x) = ', f(x))\n",
        "print('f(x + h) = ', f(x + h))\n",
        "print('dy/dx = ', (f(x+h)-f(x))/h)"
      ],
      "metadata": {
        "colab": {
          "base_uri": "https://localhost:8080/"
        },
        "id": "PvS4tQRDmeSr",
        "outputId": "5e8b74de-d558-4fdc-b9cd-390b1f94e496"
      },
      "id": "PvS4tQRDmeSr",
      "execution_count": 7,
      "outputs": [
        {
          "output_type": "stream",
          "name": "stdout",
          "text": [
            "x =  3.0  h =  0.001\n",
            "f(x) =  20.0\n",
            "f(x + h) =  20.014003000000002\n",
            "dy/dx =  14.00300000000243\n"
          ]
        }
      ]
    },
    {
      "cell_type": "markdown",
      "source": [
        "## Derivative of a function with multiple inputs\n",
        "Functions with a single input are fairly easy to derive mathematically, this changes with functions with multiple inputs and neural nets have many of them."
      ],
      "metadata": {
        "id": "gqNE0flnoqXL"
      },
      "id": "gqNE0flnoqXL"
    },
    {
      "cell_type": "code",
      "source": [
        "h = 0.001\n",
        "\n",
        "# inputs (Point of derivation)\n",
        "a = 2.0\n",
        "b = -3.0\n",
        "c = 10.0\n",
        "\n",
        "# function\n",
        "def f(a, b, c):\n",
        " return a*b + c\n",
        "\n",
        "# derive\n",
        "d1 = f(a, b, c)\n",
        "print('d1 = ', d1)\n",
        "c += h              # with respect to\n",
        "d2 = f(a, b, c)\n",
        "print('d2 = ', d2)\n",
        "print('slope = ', (d2-d1)/h)"
      ],
      "metadata": {
        "colab": {
          "base_uri": "https://localhost:8080/"
        },
        "id": "JJTLgYeYovwx",
        "outputId": "9f5e2e8d-8eb6-487a-f29f-b165b98f6975"
      },
      "id": "JJTLgYeYovwx",
      "execution_count": 8,
      "outputs": [
        {
          "output_type": "stream",
          "name": "stdout",
          "text": [
            "d1 =  4.0\n",
            "d2 =  4.0009999999999994\n",
            "slope =  0.9999999999994458\n"
          ]
        }
      ]
    },
    {
      "cell_type": "markdown",
      "source": [
        "# Value class in micrograd"
      ],
      "metadata": {
        "id": "purOuVzkuYAB"
      },
      "id": "purOuVzkuYAB"
    },
    {
      "cell_type": "markdown",
      "source": [
        "Micrograd provides a class *Value* for easy implementation and tracking of neural propagation. It initialy behaves as a normal scalar.\n",
        "\n",
        "* Attribute ``data`` consists of the scalar value\n",
        "* ``_prev`` provides a linked list along all of the operations\n",
        "* ``_op`` stores the operation which lead to this node\n",
        "* ``label`` is for visualization and documentation purposes for the function ``draw_dot()`` later on\n",
        "* ``grad`` is the derivative in respect to a inputchange\n",
        "\n",
        "**``grad``** describes how the output of a linked list of operations changes with the changes of the value of the corresponding node. The determination of these values is called **backpropagation**.\n",
        "\n"
      ],
      "metadata": {
        "id": "wBNmHLvypPy7"
      },
      "id": "wBNmHLvypPy7"
    },
    {
      "cell_type": "code",
      "source": [
        "class Value:\n",
        "\n",
        "  def __init__(self, data, _children=(), _op='', label = ''):# provide values for the attributes at runtime\n",
        "    self.data = data\n",
        "    self.grad = 0.0                 # affection of this value to the output\n",
        "    self._backward = lambda: None   # function for backpropagation\n",
        "    self._prev = set(_children)     # children variable keeps track of the values\n",
        "                                    # which lead to this result\n",
        "    self._op = _op                  # keeps track of the operations\n",
        "    self.label = label              # for visualization purposes\n",
        "\n",
        "  def __repr__(self):             # overwrites the standard return of the object\n",
        "    return f\"Value(data={self.data})\"\n",
        "\n",
        "  def __add__(self, other):       # what to do if two value objects are added\n",
        "    out = Value(self.data + other.data, (self, other), '+')\n",
        "\n",
        "    def _backward():\n",
        "      self.grad = 1.0 * out.grad    # applying chainrule on a sum-node\n",
        "      other.grad = 1.0 * out.grad\n",
        "    out._backward = _backward       # store the function for backpropagation\n",
        "\n",
        "    return out\n",
        "\n",
        "  def __mul__(self, other):       # what to do if two value objects are multiplied\n",
        "    out =  Value(self.data * other.data, (self, other), '*')\n",
        "\n",
        "    def _backward():\n",
        "      self.grad = other.grad * out.grad   # applying chainrule on times-node\n",
        "      other.grad = self.grad * out.grad\n",
        "    out._backward = _backward     # store the function for backpropagation\n",
        "    return out\n",
        "\n",
        "  def tanh(self):                 # implementing the tanh function\n",
        "    x = self.data\n",
        "    tanh = (math.exp(2*x) - 1)/(math.exp(2*x) + 1)\n",
        "    out =  Value(tanh, (self, ), 'tanh')\n",
        "\n",
        "    def _backward():\n",
        "      self.grad = (1 - tanh**2) * out.grad # derviative of tanh\n",
        "    out._backward = _backward     # store the function for backpropagation\n",
        "    return out\n",
        "\n",
        "  "
      ],
      "metadata": {
        "id": "eTvITsraSYKy"
      },
      "id": "eTvITsraSYKy",
      "execution_count": 39,
      "outputs": []
    },
    {
      "cell_type": "markdown",
      "source": [
        "## Vizualisation\n",
        "See [Sourcecode](https://github.com/karpathy/micrograd/blob/master/trace_graph.ipynb)"
      ],
      "metadata": {
        "id": "DEer_dW6ZfdM"
      },
      "id": "DEer_dW6ZfdM"
    },
    {
      "cell_type": "code",
      "source": [
        "from graphviz import Digraph\n",
        "\n",
        "def trace(root):\n",
        "  # builds a set of all nodes and edges in a graph\n",
        "  nodes, edges = set(), set()\n",
        "  def build(v):\n",
        "    if v not in nodes:\n",
        "      nodes.add(v)\n",
        "      for child in v._prev:\n",
        "        edges.add((child, v))\n",
        "        build(child)\n",
        "  build(root)\n",
        "  return nodes, edges\n",
        "\n",
        "def draw_dot(root):\n",
        "  dot = Digraph(format='svg', graph_attr={'rankdir': 'LR'}) # LR = left to right\n",
        "  \n",
        "  nodes, edges = trace(root)\n",
        "  for n in nodes:\n",
        "    uid = str(id(n))\n",
        "    # for any value in the graph, create a rectangular ('record') node for it\n",
        "    dot.node(name = uid, label = \"{ %s | data %.4f | grad %.4f }\" % (n.label, n.data, n.grad), shape='record')\n",
        "    if n._op:\n",
        "      # if this value is a result of some operation, create an op node for it\n",
        "      dot.node(name = uid + n._op, label = n._op)\n",
        "      # and connect this node to it\n",
        "      dot.edge(uid + n._op, uid)\n",
        "\n",
        "  for n1, n2 in edges:\n",
        "    # connect n1 to the op node of n2\n",
        "    dot.edge(str(id(n1)), str(id(n2)) + n2._op)\n",
        "\n",
        "  return dot"
      ],
      "metadata": {
        "id": "n3FU-Y7QTiWE"
      },
      "id": "n3FU-Y7QTiWE",
      "execution_count": 11,
      "outputs": []
    },
    {
      "cell_type": "markdown",
      "source": [
        "$a$ and $b$ are acting as node inputs, where as $c$ to $f$ act as the weights within the neural net. $grad$ describes how a valuechange of the corresponding node is influencing the output value."
      ],
      "metadata": {
        "id": "WNWoBHj-pwlw"
      },
      "id": "WNWoBHj-pwlw"
    },
    {
      "cell_type": "code",
      "source": [
        "# testing\n",
        "a = Value(3.0, label = 'a')\n",
        "b = Value(-5.0, label = 'b')\n",
        "c = Value(10.0, label = 'c')\n",
        "d = a*b; d.label = 'd'\n",
        "e = d+c+b; e.label = 'e'\n",
        "f = Value(3.2, label = 'f')\n",
        "L = e*f; L.label = 'L'\n",
        "\n",
        "# visualization\n",
        "draw_dot(L)"
      ],
      "metadata": {
        "colab": {
          "base_uri": "https://localhost:8080/",
          "height": 278
        },
        "id": "R_oqQh5_dYwX",
        "outputId": "304e19ae-47e5-4938-89fd-7010bc312274"
      },
      "id": "R_oqQh5_dYwX",
      "execution_count": 21,
      "outputs": [
        {
          "output_type": "execute_result",
          "data": {
            "text/plain": [
              "<graphviz.dot.Digraph at 0x7f8c2b13d650>"
            ],
            "image/svg+xml": "<?xml version=\"1.0\" encoding=\"UTF-8\" standalone=\"no\"?>\n<!DOCTYPE svg PUBLIC \"-//W3C//DTD SVG 1.1//EN\"\n \"http://www.w3.org/Graphics/SVG/1.1/DTD/svg11.dtd\">\n<!-- Generated by graphviz version 2.40.1 (20161225.0304)\n -->\n<!-- Title: %3 Pages: 1 -->\n<svg width=\"1533pt\" height=\"178pt\"\n viewBox=\"0.00 0.00 1533.00 178.00\" xmlns=\"http://www.w3.org/2000/svg\" xmlns:xlink=\"http://www.w3.org/1999/xlink\">\n<g id=\"graph0\" class=\"graph\" transform=\"scale(1 1) rotate(0) translate(4 174)\">\n<title>%3</title>\n<polygon fill=\"#ffffff\" stroke=\"transparent\" points=\"-4,4 -4,-174 1529,-174 1529,4 -4,4\"/>\n<!-- 140239994871312 -->\n<g id=\"node1\" class=\"node\">\n<title>140239994871312</title>\n<polygon fill=\"none\" stroke=\"#000000\" points=\"660,-55.5 660,-91.5 856,-91.5 856,-55.5 660,-55.5\"/>\n<text text-anchor=\"middle\" x=\"670\" y=\"-69.8\" font-family=\"Times,serif\" font-size=\"14.00\" fill=\"#000000\"> </text>\n<polyline fill=\"none\" stroke=\"#000000\" points=\"680,-55.5 680,-91.5 \"/>\n<text text-anchor=\"middle\" x=\"724.5\" y=\"-69.8\" font-family=\"Times,serif\" font-size=\"14.00\" fill=\"#000000\">data &#45;5.0000</text>\n<polyline fill=\"none\" stroke=\"#000000\" points=\"769,-55.5 769,-91.5 \"/>\n<text text-anchor=\"middle\" x=\"812.5\" y=\"-69.8\" font-family=\"Times,serif\" font-size=\"14.00\" fill=\"#000000\">grad 0.0000</text>\n</g>\n<!-- 140239994871568+ -->\n<g id=\"node9\" class=\"node\">\n<title>140239994871568+</title>\n<ellipse fill=\"none\" stroke=\"#000000\" cx=\"919\" cy=\"-96.5\" rx=\"27\" ry=\"18\"/>\n<text text-anchor=\"middle\" x=\"919\" y=\"-92.8\" font-family=\"Times,serif\" font-size=\"14.00\" fill=\"#000000\">+</text>\n</g>\n<!-- 140239994871312&#45;&gt;140239994871568+ -->\n<g id=\"edge7\" class=\"edge\">\n<title>140239994871312&#45;&gt;140239994871568+</title>\n<path fill=\"none\" stroke=\"#000000\" d=\"M856.2922,-87.5417C865.4875,-88.8554 874.3568,-90.1224 882.387,-91.2696\"/>\n<polygon fill=\"#000000\" stroke=\"#000000\" points=\"882.0224,-94.7529 892.4169,-92.7024 883.0125,-87.8233 882.0224,-94.7529\"/>\n</g>\n<!-- 140239994871312+ -->\n<g id=\"node2\" class=\"node\">\n<title>140239994871312+</title>\n<ellipse fill=\"none\" stroke=\"#000000\" cx=\"597\" cy=\"-73.5\" rx=\"27\" ry=\"18\"/>\n<text text-anchor=\"middle\" x=\"597\" y=\"-69.8\" font-family=\"Times,serif\" font-size=\"14.00\" fill=\"#000000\">+</text>\n</g>\n<!-- 140239994871312+&#45;&gt;140239994871312 -->\n<g id=\"edge1\" class=\"edge\">\n<title>140239994871312+&#45;&gt;140239994871312</title>\n<path fill=\"none\" stroke=\"#000000\" d=\"M624.3115,-73.5C631.8223,-73.5 640.4512,-73.5 649.6318,-73.5\"/>\n<polygon fill=\"#000000\" stroke=\"#000000\" points=\"649.7835,-77.0001 659.7835,-73.5 649.7835,-70.0001 649.7835,-77.0001\"/>\n</g>\n<!-- 140239994921488 -->\n<g id=\"node3\" class=\"node\">\n<title>140239994921488</title>\n<polygon fill=\"none\" stroke=\"#000000\" points=\"0,-102.5 0,-138.5 200,-138.5 200,-102.5 0,-102.5\"/>\n<text text-anchor=\"middle\" x=\"12\" y=\"-116.8\" font-family=\"Times,serif\" font-size=\"14.00\" fill=\"#000000\">b</text>\n<polyline fill=\"none\" stroke=\"#000000\" points=\"24,-102.5 24,-138.5 \"/>\n<text text-anchor=\"middle\" x=\"68.5\" y=\"-116.8\" font-family=\"Times,serif\" font-size=\"14.00\" fill=\"#000000\">data &#45;5.0000</text>\n<polyline fill=\"none\" stroke=\"#000000\" points=\"113,-102.5 113,-138.5 \"/>\n<text text-anchor=\"middle\" x=\"156.5\" y=\"-116.8\" font-family=\"Times,serif\" font-size=\"14.00\" fill=\"#000000\">grad 0.0000</text>\n</g>\n<!-- 140239994921488&#45;&gt;140239994871568+ -->\n<g id=\"edge8\" class=\"edge\">\n<title>140239994921488&#45;&gt;140239994871568+</title>\n<path fill=\"none\" stroke=\"#000000\" d=\"M200.0056,-120.5C265.44,-120.5 352.7995,-120.5 430,-120.5 430,-120.5 430,-120.5 597,-120.5 700.6501,-120.5 822.5498,-107.9802 882.2672,-101.0257\"/>\n<polygon fill=\"#000000\" stroke=\"#000000\" points=\"882.8133,-104.4856 892.3339,-99.8371 881.9924,-97.5339 882.8133,-104.4856\"/>\n</g>\n<!-- 140239994921360* -->\n<g id=\"node11\" class=\"node\">\n<title>140239994921360*</title>\n<ellipse fill=\"none\" stroke=\"#000000\" cx=\"263\" cy=\"-73.5\" rx=\"27\" ry=\"18\"/>\n<text text-anchor=\"middle\" x=\"263\" y=\"-69.8\" font-family=\"Times,serif\" font-size=\"14.00\" fill=\"#000000\">*</text>\n</g>\n<!-- 140239994921488&#45;&gt;140239994921360* -->\n<g id=\"edge5\" class=\"edge\">\n<title>140239994921488&#45;&gt;140239994921360*</title>\n<path fill=\"none\" stroke=\"#000000\" d=\"M168.4281,-102.4508C179.0204,-99.5339 189.8198,-96.4887 200,-93.5 209.3798,-90.7463 219.4931,-87.6106 228.8132,-84.6521\"/>\n<polygon fill=\"#000000\" stroke=\"#000000\" points=\"230.0859,-87.9198 238.5429,-81.5378 227.9519,-81.253 230.0859,-87.9198\"/>\n</g>\n<!-- 140239994871760 -->\n<g id=\"node4\" class=\"node\">\n<title>140239994871760</title>\n<polygon fill=\"none\" stroke=\"#000000\" points=\"989,-133.5 989,-169.5 1182,-169.5 1182,-133.5 989,-133.5\"/>\n<text text-anchor=\"middle\" x=\"999.5\" y=\"-147.8\" font-family=\"Times,serif\" font-size=\"14.00\" fill=\"#000000\">f</text>\n<polyline fill=\"none\" stroke=\"#000000\" points=\"1010,-133.5 1010,-169.5 \"/>\n<text text-anchor=\"middle\" x=\"1052.5\" y=\"-147.8\" font-family=\"Times,serif\" font-size=\"14.00\" fill=\"#000000\">data 3.2000</text>\n<polyline fill=\"none\" stroke=\"#000000\" points=\"1095,-133.5 1095,-169.5 \"/>\n<text text-anchor=\"middle\" x=\"1138.5\" y=\"-147.8\" font-family=\"Times,serif\" font-size=\"14.00\" fill=\"#000000\">grad 0.0000</text>\n</g>\n<!-- 140239994871504* -->\n<g id=\"node7\" class=\"node\">\n<title>140239994871504*</title>\n<ellipse fill=\"none\" stroke=\"#000000\" cx=\"1252\" cy=\"-123.5\" rx=\"27\" ry=\"18\"/>\n<text text-anchor=\"middle\" x=\"1252\" y=\"-119.8\" font-family=\"Times,serif\" font-size=\"14.00\" fill=\"#000000\">*</text>\n</g>\n<!-- 140239994871760&#45;&gt;140239994871504* -->\n<g id=\"edge10\" class=\"edge\">\n<title>140239994871760&#45;&gt;140239994871504*</title>\n<path fill=\"none\" stroke=\"#000000\" d=\"M1182.3537,-135.2123C1194.1412,-133.23 1205.5546,-131.3106 1215.6141,-129.619\"/>\n<polygon fill=\"#000000\" stroke=\"#000000\" points=\"1216.2848,-133.0554 1225.5658,-127.9454 1215.1239,-126.1523 1216.2848,-133.0554\"/>\n</g>\n<!-- 140239994921552 -->\n<g id=\"node5\" class=\"node\">\n<title>140239994921552</title>\n<polygon fill=\"none\" stroke=\"#000000\" points=\"329,-.5 329,-36.5 531,-36.5 531,-.5 329,-.5\"/>\n<text text-anchor=\"middle\" x=\"340.5\" y=\"-14.8\" font-family=\"Times,serif\" font-size=\"14.00\" fill=\"#000000\">c</text>\n<polyline fill=\"none\" stroke=\"#000000\" points=\"352,-.5 352,-36.5 \"/>\n<text text-anchor=\"middle\" x=\"398\" y=\"-14.8\" font-family=\"Times,serif\" font-size=\"14.00\" fill=\"#000000\">data 10.0000</text>\n<polyline fill=\"none\" stroke=\"#000000\" points=\"444,-.5 444,-36.5 \"/>\n<text text-anchor=\"middle\" x=\"487.5\" y=\"-14.8\" font-family=\"Times,serif\" font-size=\"14.00\" fill=\"#000000\">grad 0.0000</text>\n</g>\n<!-- 140239994921552&#45;&gt;140239994871312+ -->\n<g id=\"edge12\" class=\"edge\">\n<title>140239994921552&#45;&gt;140239994871312+</title>\n<path fill=\"none\" stroke=\"#000000\" d=\"M502.2954,-36.5405C513.0009,-39.6224 523.8423,-42.9759 534,-46.5 544.479,-50.1356 555.6792,-54.7031 565.6861,-59.042\"/>\n<polygon fill=\"#000000\" stroke=\"#000000\" points=\"564.291,-62.252 574.8523,-63.0941 567.1212,-55.8496 564.291,-62.252\"/>\n</g>\n<!-- 140239994871504 -->\n<g id=\"node6\" class=\"node\">\n<title>140239994871504</title>\n<polygon fill=\"none\" stroke=\"#000000\" points=\"1315,-105.5 1315,-141.5 1525,-141.5 1525,-105.5 1315,-105.5\"/>\n<text text-anchor=\"middle\" x=\"1328\" y=\"-119.8\" font-family=\"Times,serif\" font-size=\"14.00\" fill=\"#000000\">L</text>\n<polyline fill=\"none\" stroke=\"#000000\" points=\"1341,-105.5 1341,-141.5 \"/>\n<text text-anchor=\"middle\" x=\"1389.5\" y=\"-119.8\" font-family=\"Times,serif\" font-size=\"14.00\" fill=\"#000000\">data &#45;32.0000</text>\n<polyline fill=\"none\" stroke=\"#000000\" points=\"1438,-105.5 1438,-141.5 \"/>\n<text text-anchor=\"middle\" x=\"1481.5\" y=\"-119.8\" font-family=\"Times,serif\" font-size=\"14.00\" fill=\"#000000\">grad 0.0000</text>\n</g>\n<!-- 140239994871504*&#45;&gt;140239994871504 -->\n<g id=\"edge2\" class=\"edge\">\n<title>140239994871504*&#45;&gt;140239994871504</title>\n<path fill=\"none\" stroke=\"#000000\" d=\"M1279.366,-123.5C1286.8769,-123.5 1295.5185,-123.5 1304.7472,-123.5\"/>\n<polygon fill=\"#000000\" stroke=\"#000000\" points=\"1304.9659,-127.0001 1314.9659,-123.5 1304.9658,-120.0001 1304.9659,-127.0001\"/>\n</g>\n<!-- 140239994871568 -->\n<g id=\"node8\" class=\"node\">\n<title>140239994871568</title>\n<polygon fill=\"none\" stroke=\"#000000\" points=\"982,-78.5 982,-114.5 1189,-114.5 1189,-78.5 982,-78.5\"/>\n<text text-anchor=\"middle\" x=\"993.5\" y=\"-92.8\" font-family=\"Times,serif\" font-size=\"14.00\" fill=\"#000000\">e</text>\n<polyline fill=\"none\" stroke=\"#000000\" points=\"1005,-78.5 1005,-114.5 \"/>\n<text text-anchor=\"middle\" x=\"1053.5\" y=\"-92.8\" font-family=\"Times,serif\" font-size=\"14.00\" fill=\"#000000\">data &#45;10.0000</text>\n<polyline fill=\"none\" stroke=\"#000000\" points=\"1102,-78.5 1102,-114.5 \"/>\n<text text-anchor=\"middle\" x=\"1145.5\" y=\"-92.8\" font-family=\"Times,serif\" font-size=\"14.00\" fill=\"#000000\">grad 0.0000</text>\n</g>\n<!-- 140239994871568&#45;&gt;140239994871504* -->\n<g id=\"edge11\" class=\"edge\">\n<title>140239994871568&#45;&gt;140239994871504*</title>\n<path fill=\"none\" stroke=\"#000000\" d=\"M1189.0535,-113.2925C1198.4338,-114.8136 1207.4479,-116.2753 1215.5787,-117.5938\"/>\n<polygon fill=\"#000000\" stroke=\"#000000\" points=\"1215.2839,-121.0917 1225.7152,-119.2376 1216.4044,-114.1819 1215.2839,-121.0917\"/>\n</g>\n<!-- 140239994871568+&#45;&gt;140239994871568 -->\n<g id=\"edge3\" class=\"edge\">\n<title>140239994871568+&#45;&gt;140239994871568</title>\n<path fill=\"none\" stroke=\"#000000\" d=\"M946.1217,-96.5C953.6332,-96.5 962.2858,-96.5 971.5258,-96.5\"/>\n<polygon fill=\"#000000\" stroke=\"#000000\" points=\"971.7565,-100.0001 981.7565,-96.5 971.7565,-93.0001 971.7565,-100.0001\"/>\n</g>\n<!-- 140239994921360 -->\n<g id=\"node10\" class=\"node\">\n<title>140239994921360</title>\n<polygon fill=\"none\" stroke=\"#000000\" points=\"326,-55.5 326,-91.5 534,-91.5 534,-55.5 326,-55.5\"/>\n<text text-anchor=\"middle\" x=\"338\" y=\"-69.8\" font-family=\"Times,serif\" font-size=\"14.00\" fill=\"#000000\">d</text>\n<polyline fill=\"none\" stroke=\"#000000\" points=\"350,-55.5 350,-91.5 \"/>\n<text text-anchor=\"middle\" x=\"398.5\" y=\"-69.8\" font-family=\"Times,serif\" font-size=\"14.00\" fill=\"#000000\">data &#45;15.0000</text>\n<polyline fill=\"none\" stroke=\"#000000\" points=\"447,-55.5 447,-91.5 \"/>\n<text text-anchor=\"middle\" x=\"490.5\" y=\"-69.8\" font-family=\"Times,serif\" font-size=\"14.00\" fill=\"#000000\">grad 0.0000</text>\n</g>\n<!-- 140239994921360&#45;&gt;140239994871312+ -->\n<g id=\"edge9\" class=\"edge\">\n<title>140239994921360&#45;&gt;140239994871312+</title>\n<path fill=\"none\" stroke=\"#000000\" d=\"M534.3402,-73.5C543.3152,-73.5 551.9471,-73.5 559.7838,-73.5\"/>\n<polygon fill=\"#000000\" stroke=\"#000000\" points=\"559.9351,-77.0001 569.935,-73.5 559.935,-70.0001 559.9351,-77.0001\"/>\n</g>\n<!-- 140239994921360*&#45;&gt;140239994921360 -->\n<g id=\"edge4\" class=\"edge\">\n<title>140239994921360*&#45;&gt;140239994921360</title>\n<path fill=\"none\" stroke=\"#000000\" d=\"M290.2031,-73.5C297.7372,-73.5 306.4158,-73.5 315.6835,-73.5\"/>\n<polygon fill=\"#000000\" stroke=\"#000000\" points=\"315.945,-77.0001 325.945,-73.5 315.9449,-70.0001 315.945,-77.0001\"/>\n</g>\n<!-- 140240127552976 -->\n<g id=\"node12\" class=\"node\">\n<title>140240127552976</title>\n<polygon fill=\"none\" stroke=\"#000000\" points=\"2.5,-47.5 2.5,-83.5 197.5,-83.5 197.5,-47.5 2.5,-47.5\"/>\n<text text-anchor=\"middle\" x=\"14\" y=\"-61.8\" font-family=\"Times,serif\" font-size=\"14.00\" fill=\"#000000\">a</text>\n<polyline fill=\"none\" stroke=\"#000000\" points=\"25.5,-47.5 25.5,-83.5 \"/>\n<text text-anchor=\"middle\" x=\"68\" y=\"-61.8\" font-family=\"Times,serif\" font-size=\"14.00\" fill=\"#000000\">data 3.0000</text>\n<polyline fill=\"none\" stroke=\"#000000\" points=\"110.5,-47.5 110.5,-83.5 \"/>\n<text text-anchor=\"middle\" x=\"154\" y=\"-61.8\" font-family=\"Times,serif\" font-size=\"14.00\" fill=\"#000000\">grad 0.0000</text>\n</g>\n<!-- 140240127552976&#45;&gt;140239994921360* -->\n<g id=\"edge6\" class=\"edge\">\n<title>140240127552976&#45;&gt;140239994921360*</title>\n<path fill=\"none\" stroke=\"#000000\" d=\"M197.6409,-70.2922C207.5707,-70.7795 217.1675,-71.2505 225.8093,-71.6747\"/>\n<polygon fill=\"#000000\" stroke=\"#000000\" points=\"225.6754,-75.1722 235.835,-72.1667 226.0187,-68.1807 225.6754,-75.1722\"/>\n</g>\n</g>\n</svg>\n"
          },
          "metadata": {},
          "execution_count": 21
        }
      ]
    },
    {
      "cell_type": "markdown",
      "source": [
        "## Determination of the gradient"
      ],
      "metadata": {
        "id": "cJWJgKz4uuoL"
      },
      "id": "cJWJgKz4uuoL"
    },
    {
      "cell_type": "markdown",
      "source": [
        "### Manual backpropagation example #1: Simple expression"
      ],
      "metadata": {
        "id": "-bAPlHvVLP4n"
      },
      "id": "-bAPlHvVLP4n"
    },
    {
      "cell_type": "code",
      "source": [
        "# testing\n",
        "a = Value(3.0, label = 'a')\n",
        "b = Value(-5.0, label = 'b')\n",
        "c = Value(10.0, label = 'c')\n",
        "d = a*b; d.label = 'd'\n",
        "e = d+c; e.label = 'e'\n",
        "f = Value(3.2, label = 'f')\n",
        "L = e*f; L.label = 'L'\n",
        "print('L: \\t', L)\n",
        "print('_prev:\\t', L._prev)\n",
        "print('_op: \\t', L._op)"
      ],
      "metadata": {
        "colab": {
          "base_uri": "https://localhost:8080/"
        },
        "id": "Ma6InciAqQlp",
        "outputId": "48813057-15b4-4179-f131-15a45e2e2110"
      },
      "id": "Ma6InciAqQlp",
      "execution_count": 23,
      "outputs": [
        {
          "output_type": "stream",
          "name": "stdout",
          "text": [
            "L: \t Value(data=-16.0)\n",
            "_prev:\t {Value(data=-5.0), Value(data=3.2)}\n",
            "_op: \t *\n"
          ]
        }
      ]
    },
    {
      "cell_type": "markdown",
      "source": [
        "First of we are going to determine the grad values by manual backpropagation:\n",
        "\n",
        "* ``grad`` of $L$ will always be $1.0$ because we are calculating $\\frac{dL}{dL} = 1$\n",
        "* ``e.gard`` $= \\frac{dL}{de} = \\frac{d}{de}f*e = f$\n",
        "* ``f.gard`` $= \\frac{dL}{df} = \\frac{d}{df}f*e = e$\n",
        "\n",
        "*local derivative of the **Sum**-node, because we already know how $e$ is impacting $L$:*\n",
        "* calculate $\\frac{de}{dc} = \\frac{d}{dc}c+d = 1$\n",
        "* and by symmetry $\\frac{de}{dd} = 1$\n",
        "\n",
        "by applying the chainrule: **(Sum-nodes routes the derivative from the upper node to the two adjoining values \"distributor\")**\n",
        "* ``c.grad`` $= \\frac{dL}{dc} = \\frac{dL}{de} * \\frac{de}{dc} = e.grad * 1 = e.grad$\n",
        "* ``d.grad`` $= \\frac{dL}{dd} = \\frac{dL}{de} * \\frac{de}{dd} = e.grad * 1 = e.grad$\n",
        "\n",
        "*local gradient of **Times**-node: (likewise as on the first node*\n",
        "* $\\frac{dd}{da} = \\frac{d}{da}a*b = b$\n",
        "* $\\frac{dd}{db} = \\frac{d}{db}a*b = a$\n",
        "\n",
        "by appying the chainrule:\n",
        "* ``a.grad`` $= \\frac{dL}{da} = \\frac{dL}{dd} * \\frac{dd}{da} = d.grad * b$\n",
        "* ``b.grad`` $= \\frac{dL}{db} = \\frac{dL}{dd} * \\frac{dd}{db} = d.grad * a$"
      ],
      "metadata": {
        "id": "BOf0gcaDvmE1"
      },
      "id": "BOf0gcaDvmE1"
    },
    {
      "cell_type": "code",
      "source": [
        "L.grad = 1\n",
        "e.grad = f.data\n",
        "f.grad = e.data\n",
        "c.grad = e.grad\n",
        "d.grad = e.grad\n",
        "a.grad = d.grad * b.data\n",
        "b.grad = d.grad * a.data\n"
      ],
      "metadata": {
        "id": "vQhnvI5auxzu"
      },
      "id": "vQhnvI5auxzu",
      "execution_count": 24,
      "outputs": []
    },
    {
      "cell_type": "code",
      "source": [
        "draw_dot(L)"
      ],
      "metadata": {
        "id": "nIJbfWRfLEfR",
        "outputId": "96dd58ae-9bcb-4718-f5b5-2500b1462591",
        "colab": {
          "base_uri": "https://localhost:8080/",
          "height": 212
        }
      },
      "id": "nIJbfWRfLEfR",
      "execution_count": 25,
      "outputs": [
        {
          "output_type": "execute_result",
          "data": {
            "text/plain": [
              "<graphviz.dot.Digraph at 0x7f8c2b0e2410>"
            ],
            "image/svg+xml": "<?xml version=\"1.0\" encoding=\"UTF-8\" standalone=\"no\"?>\n<!DOCTYPE svg PUBLIC \"-//W3C//DTD SVG 1.1//EN\"\n \"http://www.w3.org/Graphics/SVG/1.1/DTD/svg11.dtd\">\n<!-- Generated by graphviz version 2.40.1 (20161225.0304)\n -->\n<!-- Title: %3 Pages: 1 -->\n<svg width=\"1210pt\" height=\"128pt\"\n viewBox=\"0.00 0.00 1210.00 128.00\" xmlns=\"http://www.w3.org/2000/svg\" xmlns:xlink=\"http://www.w3.org/1999/xlink\">\n<g id=\"graph0\" class=\"graph\" transform=\"scale(1 1) rotate(0) translate(4 124)\">\n<title>%3</title>\n<polygon fill=\"#ffffff\" stroke=\"transparent\" points=\"-4,4 -4,-124 1206,-124 1206,4 -4,4\"/>\n<!-- 140239994483408 -->\n<g id=\"node1\" class=\"node\">\n<title>140239994483408</title>\n<polygon fill=\"none\" stroke=\"#000000\" points=\"667.5,-82.5 667.5,-118.5 865.5,-118.5 865.5,-82.5 667.5,-82.5\"/>\n<text text-anchor=\"middle\" x=\"678\" y=\"-96.8\" font-family=\"Times,serif\" font-size=\"14.00\" fill=\"#000000\">f</text>\n<polyline fill=\"none\" stroke=\"#000000\" points=\"688.5,-82.5 688.5,-118.5 \"/>\n<text text-anchor=\"middle\" x=\"731\" y=\"-96.8\" font-family=\"Times,serif\" font-size=\"14.00\" fill=\"#000000\">data 3.2000</text>\n<polyline fill=\"none\" stroke=\"#000000\" points=\"773.5,-82.5 773.5,-118.5 \"/>\n<text text-anchor=\"middle\" x=\"819.5\" y=\"-96.8\" font-family=\"Times,serif\" font-size=\"14.00\" fill=\"#000000\">grad &#45;5.0000</text>\n</g>\n<!-- 140239994486672* -->\n<g id=\"node9\" class=\"node\">\n<title>140239994486672*</title>\n<ellipse fill=\"none\" stroke=\"#000000\" cx=\"929\" cy=\"-72.5\" rx=\"27\" ry=\"18\"/>\n<text text-anchor=\"middle\" x=\"929\" y=\"-68.8\" font-family=\"Times,serif\" font-size=\"14.00\" fill=\"#000000\">*</text>\n</g>\n<!-- 140239994483408&#45;&gt;140239994486672* -->\n<g id=\"edge4\" class=\"edge\">\n<title>140239994483408&#45;&gt;140239994486672*</title>\n<path fill=\"none\" stroke=\"#000000\" d=\"M865.708,-83.4057C875.2791,-81.7565 884.5003,-80.1676 892.8035,-78.7369\"/>\n<polygon fill=\"#000000\" stroke=\"#000000\" points=\"893.5268,-82.164 902.7872,-77.0167 892.3381,-75.2656 893.5268,-82.164\"/>\n</g>\n<!-- 140239994497296 -->\n<g id=\"node2\" class=\"node\">\n<title>140239994497296</title>\n<polygon fill=\"none\" stroke=\"#000000\" points=\"0,-83.5 0,-119.5 207,-119.5 207,-83.5 0,-83.5\"/>\n<text text-anchor=\"middle\" x=\"11.5\" y=\"-97.8\" font-family=\"Times,serif\" font-size=\"14.00\" fill=\"#000000\">a</text>\n<polyline fill=\"none\" stroke=\"#000000\" points=\"23,-83.5 23,-119.5 \"/>\n<text text-anchor=\"middle\" x=\"65.5\" y=\"-97.8\" font-family=\"Times,serif\" font-size=\"14.00\" fill=\"#000000\">data 3.0000</text>\n<polyline fill=\"none\" stroke=\"#000000\" points=\"108,-83.5 108,-119.5 \"/>\n<text text-anchor=\"middle\" x=\"157.5\" y=\"-97.8\" font-family=\"Times,serif\" font-size=\"14.00\" fill=\"#000000\">grad &#45;16.0000</text>\n</g>\n<!-- 140239994486096* -->\n<g id=\"node6\" class=\"node\">\n<title>140239994486096*</title>\n<ellipse fill=\"none\" stroke=\"#000000\" cx=\"270\" cy=\"-73.5\" rx=\"27\" ry=\"18\"/>\n<text text-anchor=\"middle\" x=\"270\" y=\"-69.8\" font-family=\"Times,serif\" font-size=\"14.00\" fill=\"#000000\">*</text>\n</g>\n<!-- 140239994497296&#45;&gt;140239994486096* -->\n<g id=\"edge7\" class=\"edge\">\n<title>140239994497296&#45;&gt;140239994486096*</title>\n<path fill=\"none\" stroke=\"#000000\" d=\"M207.0535,-84.0856C216.5392,-82.4904 225.6504,-80.9582 233.8524,-79.5789\"/>\n<polygon fill=\"#000000\" stroke=\"#000000\" points=\"234.4341,-83.0303 243.7152,-77.9203 233.2732,-76.1272 234.4341,-83.0303\"/>\n</g>\n<!-- 140239994486544 -->\n<g id=\"node3\" class=\"node\">\n<title>140239994486544</title>\n<polygon fill=\"none\" stroke=\"#000000\" points=\"667,-27.5 667,-63.5 866,-63.5 866,-27.5 667,-27.5\"/>\n<text text-anchor=\"middle\" x=\"678.5\" y=\"-41.8\" font-family=\"Times,serif\" font-size=\"14.00\" fill=\"#000000\">e</text>\n<polyline fill=\"none\" stroke=\"#000000\" points=\"690,-27.5 690,-63.5 \"/>\n<text text-anchor=\"middle\" x=\"734.5\" y=\"-41.8\" font-family=\"Times,serif\" font-size=\"14.00\" fill=\"#000000\">data &#45;5.0000</text>\n<polyline fill=\"none\" stroke=\"#000000\" points=\"779,-27.5 779,-63.5 \"/>\n<text text-anchor=\"middle\" x=\"822.5\" y=\"-41.8\" font-family=\"Times,serif\" font-size=\"14.00\" fill=\"#000000\">grad 3.2000</text>\n</g>\n<!-- 140239994486544&#45;&gt;140239994486672* -->\n<g id=\"edge8\" class=\"edge\">\n<title>140239994486544&#45;&gt;140239994486672*</title>\n<path fill=\"none\" stroke=\"#000000\" d=\"M866.1733,-62.0611C875.492,-63.6094 884.4694,-65.1011 892.5793,-66.4486\"/>\n<polygon fill=\"#000000\" stroke=\"#000000\" points=\"892.2584,-69.9431 902.6968,-68.1296 893.4058,-63.0378 892.2584,-69.9431\"/>\n</g>\n<!-- 140239994486544+ -->\n<g id=\"node4\" class=\"node\">\n<title>140239994486544+</title>\n<ellipse fill=\"none\" stroke=\"#000000\" cx=\"604\" cy=\"-45.5\" rx=\"27\" ry=\"18\"/>\n<text text-anchor=\"middle\" x=\"604\" y=\"-41.8\" font-family=\"Times,serif\" font-size=\"14.00\" fill=\"#000000\">+</text>\n</g>\n<!-- 140239994486544+&#45;&gt;140239994486544 -->\n<g id=\"edge1\" class=\"edge\">\n<title>140239994486544+&#45;&gt;140239994486544</title>\n<path fill=\"none\" stroke=\"#000000\" d=\"M631.1988,-45.5C638.6966,-45.5 647.3182,-45.5 656.5023,-45.5\"/>\n<polygon fill=\"#000000\" stroke=\"#000000\" points=\"656.6624,-49.0001 666.6624,-45.5 656.6624,-42.0001 656.6624,-49.0001\"/>\n</g>\n<!-- 140239994486096 -->\n<g id=\"node5\" class=\"node\">\n<title>140239994486096</title>\n<polygon fill=\"none\" stroke=\"#000000\" points=\"333,-55.5 333,-91.5 541,-91.5 541,-55.5 333,-55.5\"/>\n<text text-anchor=\"middle\" x=\"345\" y=\"-69.8\" font-family=\"Times,serif\" font-size=\"14.00\" fill=\"#000000\">d</text>\n<polyline fill=\"none\" stroke=\"#000000\" points=\"357,-55.5 357,-91.5 \"/>\n<text text-anchor=\"middle\" x=\"405.5\" y=\"-69.8\" font-family=\"Times,serif\" font-size=\"14.00\" fill=\"#000000\">data &#45;15.0000</text>\n<polyline fill=\"none\" stroke=\"#000000\" points=\"454,-55.5 454,-91.5 \"/>\n<text text-anchor=\"middle\" x=\"497.5\" y=\"-69.8\" font-family=\"Times,serif\" font-size=\"14.00\" fill=\"#000000\">grad 3.2000</text>\n</g>\n<!-- 140239994486096&#45;&gt;140239994486544+ -->\n<g id=\"edge5\" class=\"edge\">\n<title>140239994486096&#45;&gt;140239994486544+</title>\n<path fill=\"none\" stroke=\"#000000\" d=\"M541.3402,-56.0058C550.6006,-54.4532 559.4956,-52.9618 567.5289,-51.6149\"/>\n<polygon fill=\"#000000\" stroke=\"#000000\" points=\"568.2678,-55.04 577.5513,-49.9345 567.1102,-48.1363 568.2678,-55.04\"/>\n</g>\n<!-- 140239994486096*&#45;&gt;140239994486096 -->\n<g id=\"edge2\" class=\"edge\">\n<title>140239994486096*&#45;&gt;140239994486096</title>\n<path fill=\"none\" stroke=\"#000000\" d=\"M297.2031,-73.5C304.7372,-73.5 313.4158,-73.5 322.6835,-73.5\"/>\n<polygon fill=\"#000000\" stroke=\"#000000\" points=\"322.945,-77.0001 332.945,-73.5 322.9449,-70.0001 322.945,-77.0001\"/>\n</g>\n<!-- 140239994486608 -->\n<g id=\"node7\" class=\"node\">\n<title>140239994486608</title>\n<polygon fill=\"none\" stroke=\"#000000\" points=\"336,-.5 336,-36.5 538,-36.5 538,-.5 336,-.5\"/>\n<text text-anchor=\"middle\" x=\"347.5\" y=\"-14.8\" font-family=\"Times,serif\" font-size=\"14.00\" fill=\"#000000\">c</text>\n<polyline fill=\"none\" stroke=\"#000000\" points=\"359,-.5 359,-36.5 \"/>\n<text text-anchor=\"middle\" x=\"405\" y=\"-14.8\" font-family=\"Times,serif\" font-size=\"14.00\" fill=\"#000000\">data 10.0000</text>\n<polyline fill=\"none\" stroke=\"#000000\" points=\"451,-.5 451,-36.5 \"/>\n<text text-anchor=\"middle\" x=\"494.5\" y=\"-14.8\" font-family=\"Times,serif\" font-size=\"14.00\" fill=\"#000000\">grad 3.2000</text>\n</g>\n<!-- 140239994486608&#45;&gt;140239994486544+ -->\n<g id=\"edge9\" class=\"edge\">\n<title>140239994486608&#45;&gt;140239994486544+</title>\n<path fill=\"none\" stroke=\"#000000\" d=\"M538.4765,-34.9064C548.7856,-36.5731 558.7109,-38.1778 567.5827,-39.6122\"/>\n<polygon fill=\"#000000\" stroke=\"#000000\" points=\"567.043,-43.0703 577.4735,-41.2113 568.1603,-36.16 567.043,-43.0703\"/>\n</g>\n<!-- 140239994486672 -->\n<g id=\"node8\" class=\"node\">\n<title>140239994486672</title>\n<polygon fill=\"none\" stroke=\"#000000\" points=\"992,-54.5 992,-90.5 1202,-90.5 1202,-54.5 992,-54.5\"/>\n<text text-anchor=\"middle\" x=\"1005\" y=\"-68.8\" font-family=\"Times,serif\" font-size=\"14.00\" fill=\"#000000\">L</text>\n<polyline fill=\"none\" stroke=\"#000000\" points=\"1018,-54.5 1018,-90.5 \"/>\n<text text-anchor=\"middle\" x=\"1066.5\" y=\"-68.8\" font-family=\"Times,serif\" font-size=\"14.00\" fill=\"#000000\">data &#45;16.0000</text>\n<polyline fill=\"none\" stroke=\"#000000\" points=\"1115,-54.5 1115,-90.5 \"/>\n<text text-anchor=\"middle\" x=\"1158.5\" y=\"-68.8\" font-family=\"Times,serif\" font-size=\"14.00\" fill=\"#000000\">grad 1.0000</text>\n</g>\n<!-- 140239994486672*&#45;&gt;140239994486672 -->\n<g id=\"edge3\" class=\"edge\">\n<title>140239994486672*&#45;&gt;140239994486672</title>\n<path fill=\"none\" stroke=\"#000000\" d=\"M956.366,-72.5C963.8769,-72.5 972.5185,-72.5 981.7472,-72.5\"/>\n<polygon fill=\"#000000\" stroke=\"#000000\" points=\"981.9659,-76.0001 991.9659,-72.5 981.9658,-69.0001 981.9659,-76.0001\"/>\n</g>\n<!-- 140239994485712 -->\n<g id=\"node10\" class=\"node\">\n<title>140239994485712</title>\n<polygon fill=\"none\" stroke=\"#000000\" points=\"3.5,-28.5 3.5,-64.5 203.5,-64.5 203.5,-28.5 3.5,-28.5\"/>\n<text text-anchor=\"middle\" x=\"15.5\" y=\"-42.8\" font-family=\"Times,serif\" font-size=\"14.00\" fill=\"#000000\">b</text>\n<polyline fill=\"none\" stroke=\"#000000\" points=\"27.5,-28.5 27.5,-64.5 \"/>\n<text text-anchor=\"middle\" x=\"72\" y=\"-42.8\" font-family=\"Times,serif\" font-size=\"14.00\" fill=\"#000000\">data &#45;5.0000</text>\n<polyline fill=\"none\" stroke=\"#000000\" points=\"116.5,-28.5 116.5,-64.5 \"/>\n<text text-anchor=\"middle\" x=\"160\" y=\"-42.8\" font-family=\"Times,serif\" font-size=\"14.00\" fill=\"#000000\">grad 9.6000</text>\n</g>\n<!-- 140239994485712&#45;&gt;140239994486096* -->\n<g id=\"edge6\" class=\"edge\">\n<title>140239994485712&#45;&gt;140239994486096*</title>\n<path fill=\"none\" stroke=\"#000000\" d=\"M203.7164,-62.7513C214.3097,-64.4691 224.5203,-66.1249 233.6221,-67.6009\"/>\n<polygon fill=\"#000000\" stroke=\"#000000\" points=\"233.3226,-71.098 243.7539,-69.2439 234.4431,-64.1882 233.3226,-71.098\"/>\n</g>\n</g>\n</svg>\n"
          },
          "metadata": {},
          "execution_count": 25
        }
      ]
    },
    {
      "cell_type": "markdown",
      "source": [
        "## Manual backpropagation example #2: a neuron\n",
        "First check [Quick intro to neurons](https://colab.research.google.com/github/AndreasMing/Learning/blob/main/NeuralnetsWithMicrograd.ipynb#scrollTo=TjxcqCslCnDr&line=1&uniqifier=1)\n",
        "\n",
        "The following code lays out the basic maths of a neuron:"
      ],
      "metadata": {
        "id": "cG2faV4NGfC1"
      },
      "id": "cG2faV4NGfC1"
    },
    {
      "cell_type": "code",
      "source": [
        "# inputs x1,x2\n",
        "x1 = Value(2.0, label='x1')\n",
        "x2 = Value(0.0, label='x2')\n",
        "# weights w1,w2\n",
        "w1 = Value(-3.0, label='w1')\n",
        "w2 = Value(1.0, label='w2')\n",
        "# bias of the neuron\n",
        "b = Value(6.8813735870195432, label='b')\n",
        "# x1*w1 + x2*w2 + b                   # broke up into smaller steps\n",
        "x1w1 = x1*w1; x1w1.label = 'x1*w1'\n",
        "x2w2 = x2*w2; x2w2.label = 'x2*w2'\n",
        "x1w1x2w2 = x1w1 + x2w2; x1w1x2w2.label = 'x1*w1 + x2*w2'\n",
        "n = x1w1x2w2 + b; n.label = 'n'       # cell boday raw activation w/o activation function\n",
        "o = n.tanh(); o.label = 'o'           # output axon"
      ],
      "metadata": {
        "id": "vinUWyS7G5of"
      },
      "id": "vinUWyS7G5of",
      "execution_count": 70,
      "outputs": []
    },
    {
      "cell_type": "code",
      "source": [
        "# calculate derivatives by hand\n",
        "o.grad = 1                      # derivative by itself\n",
        "n.grad = 1 - o.data**2          # do/dn = 1 - tanh()**2\n",
        "\n",
        "b.grad = n.grad                 # a plus is a distributor of gradient (n.grad*1)\n",
        "x1w1x2w2.grad = n.grad          # n.grad * 1\n",
        "\n",
        "x1w1.grad = x1w1x2w2.grad       # a plus is a distributor of gradient (n.grad*1*1)\n",
        "x2w2.grad = x1w1x2w2.grad       # n.grad * 1 * 1\n",
        "\n",
        "x1.grad = x1w1.grad * w1.data   # d/dx1 x1*w1 = w1      # chainroule: w1*x1w1.grad\n",
        "w1.grad = x1w1.grad * x1.data   # symmetrical\n",
        "\n",
        "x2.grad = x2w2.grad * w2.data   # d/dx2 x2*w2 = w2      # chainroule: w2*x2w2.grad\n",
        "w2.grad = x2w2.grad * x2.data   # symmetrical\n"
      ],
      "metadata": {
        "id": "hdXqe8RyNCPz"
      },
      "id": "hdXqe8RyNCPz",
      "execution_count": 64,
      "outputs": []
    },
    {
      "cell_type": "code",
      "source": [
        "# calculate derivatives by function\n",
        "o.grad = 1.0        # initialize the topmost grad\n",
        "o._backward()   \n",
        "n._backward() \n",
        "b._backward()\n",
        "x1w1x2w2._backward()\n",
        "x2w2._backward()\n",
        "x1w1._backward()\n"
      ],
      "metadata": {
        "id": "RzDIsWG7WBwm"
      },
      "id": "RzDIsWG7WBwm",
      "execution_count": 75,
      "outputs": []
    },
    {
      "cell_type": "code",
      "source": [
        "# visualization\n",
        "draw_dot(o)"
      ],
      "metadata": {
        "id": "MT-pVXHMLi8b",
        "outputId": "a9021a07-73a6-47c2-e418-0dfa54183e76",
        "colab": {
          "base_uri": "https://localhost:8080/",
          "height": 321
        }
      },
      "id": "MT-pVXHMLi8b",
      "execution_count": 76,
      "outputs": [
        {
          "output_type": "execute_result",
          "data": {
            "text/plain": [
              "<graphviz.dot.Digraph at 0x7f8c2b0e1210>"
            ],
            "image/svg+xml": "<?xml version=\"1.0\" encoding=\"UTF-8\" standalone=\"no\"?>\n<!DOCTYPE svg PUBLIC \"-//W3C//DTD SVG 1.1//EN\"\n \"http://www.w3.org/Graphics/SVG/1.1/DTD/svg11.dtd\">\n<!-- Generated by graphviz version 2.40.1 (20161225.0304)\n -->\n<!-- Title: %3 Pages: 1 -->\n<svg width=\"1637pt\" height=\"210pt\"\n viewBox=\"0.00 0.00 1637.00 210.00\" xmlns=\"http://www.w3.org/2000/svg\" xmlns:xlink=\"http://www.w3.org/1999/xlink\">\n<g id=\"graph0\" class=\"graph\" transform=\"scale(1 1) rotate(0) translate(4 206)\">\n<title>%3</title>\n<polygon fill=\"#ffffff\" stroke=\"transparent\" points=\"-4,4 -4,-206 1633,-206 1633,4 -4,4\"/>\n<!-- 140239994087376 -->\n<g id=\"node1\" class=\"node\">\n<title>140239994087376</title>\n<polygon fill=\"none\" stroke=\"#000000\" points=\"3.5,-165.5 3.5,-201.5 207.5,-201.5 207.5,-165.5 3.5,-165.5\"/>\n<text text-anchor=\"middle\" x=\"19.5\" y=\"-179.8\" font-family=\"Times,serif\" font-size=\"14.00\" fill=\"#000000\">x2</text>\n<polyline fill=\"none\" stroke=\"#000000\" points=\"35.5,-165.5 35.5,-201.5 \"/>\n<text text-anchor=\"middle\" x=\"78\" y=\"-179.8\" font-family=\"Times,serif\" font-size=\"14.00\" fill=\"#000000\">data 0.0000</text>\n<polyline fill=\"none\" stroke=\"#000000\" points=\"120.5,-165.5 120.5,-201.5 \"/>\n<text text-anchor=\"middle\" x=\"164\" y=\"-179.8\" font-family=\"Times,serif\" font-size=\"14.00\" fill=\"#000000\">grad 0.0000</text>\n</g>\n<!-- 140239994647504* -->\n<g id=\"node15\" class=\"node\">\n<title>140239994647504*</title>\n<ellipse fill=\"none\" stroke=\"#000000\" cx=\"274\" cy=\"-128.5\" rx=\"27\" ry=\"18\"/>\n<text text-anchor=\"middle\" x=\"274\" y=\"-124.8\" font-family=\"Times,serif\" font-size=\"14.00\" fill=\"#000000\">*</text>\n</g>\n<!-- 140239994087376&#45;&gt;140239994647504* -->\n<g id=\"edge6\" class=\"edge\">\n<title>140239994087376&#45;&gt;140239994647504*</title>\n<path fill=\"none\" stroke=\"#000000\" d=\"M182.3017,-165.4558C192.0361,-162.698 201.8026,-159.6955 211,-156.5 221.6243,-152.8088 232.9373,-148.0548 243.0021,-143.5155\"/>\n<polygon fill=\"#000000\" stroke=\"#000000\" points=\"244.5909,-146.6371 252.2061,-139.271 241.6594,-140.2805 244.5909,-146.6371\"/>\n</g>\n<!-- 140240234825872 -->\n<g id=\"node2\" class=\"node\">\n<title>140240234825872</title>\n<polygon fill=\"none\" stroke=\"#000000\" points=\"742.5,-27.5 742.5,-63.5 938.5,-63.5 938.5,-27.5 742.5,-27.5\"/>\n<text text-anchor=\"middle\" x=\"754.5\" y=\"-41.8\" font-family=\"Times,serif\" font-size=\"14.00\" fill=\"#000000\">b</text>\n<polyline fill=\"none\" stroke=\"#000000\" points=\"766.5,-27.5 766.5,-63.5 \"/>\n<text text-anchor=\"middle\" x=\"809\" y=\"-41.8\" font-family=\"Times,serif\" font-size=\"14.00\" fill=\"#000000\">data 6.8814</text>\n<polyline fill=\"none\" stroke=\"#000000\" points=\"851.5,-27.5 851.5,-63.5 \"/>\n<text text-anchor=\"middle\" x=\"895\" y=\"-41.8\" font-family=\"Times,serif\" font-size=\"14.00\" fill=\"#000000\">grad 0.5000</text>\n</g>\n<!-- 140239994225488+ -->\n<g id=\"node10\" class=\"node\">\n<title>140239994225488+</title>\n<ellipse fill=\"none\" stroke=\"#000000\" cx=\"1048\" cy=\"-72.5\" rx=\"27\" ry=\"18\"/>\n<text text-anchor=\"middle\" x=\"1048\" y=\"-68.8\" font-family=\"Times,serif\" font-size=\"14.00\" fill=\"#000000\">+</text>\n</g>\n<!-- 140240234825872&#45;&gt;140239994225488+ -->\n<g id=\"edge8\" class=\"edge\">\n<title>140240234825872&#45;&gt;140239994225488+</title>\n<path fill=\"none\" stroke=\"#000000\" d=\"M938.7811,-58.2884C964.6496,-61.6544 990.9727,-65.0796 1011.2938,-67.7238\"/>\n<polygon fill=\"#000000\" stroke=\"#000000\" points=\"1010.9711,-71.2112 1021.3391,-69.0309 1011.8744,-64.2697 1010.9711,-71.2112\"/>\n</g>\n<!-- 140239994658448 -->\n<g id=\"node3\" class=\"node\">\n<title>140239994658448</title>\n<polygon fill=\"none\" stroke=\"#000000\" points=\"3.5,-55.5 3.5,-91.5 207.5,-91.5 207.5,-55.5 3.5,-55.5\"/>\n<text text-anchor=\"middle\" x=\"19.5\" y=\"-69.8\" font-family=\"Times,serif\" font-size=\"14.00\" fill=\"#000000\">x1</text>\n<polyline fill=\"none\" stroke=\"#000000\" points=\"35.5,-55.5 35.5,-91.5 \"/>\n<text text-anchor=\"middle\" x=\"78\" y=\"-69.8\" font-family=\"Times,serif\" font-size=\"14.00\" fill=\"#000000\">data 2.0000</text>\n<polyline fill=\"none\" stroke=\"#000000\" points=\"120.5,-55.5 120.5,-91.5 \"/>\n<text text-anchor=\"middle\" x=\"164\" y=\"-69.8\" font-family=\"Times,serif\" font-size=\"14.00\" fill=\"#000000\">grad 0.0000</text>\n</g>\n<!-- 140239994647376* -->\n<g id=\"node12\" class=\"node\">\n<title>140239994647376*</title>\n<ellipse fill=\"none\" stroke=\"#000000\" cx=\"274\" cy=\"-73.5\" rx=\"27\" ry=\"18\"/>\n<text text-anchor=\"middle\" x=\"274\" y=\"-69.8\" font-family=\"Times,serif\" font-size=\"14.00\" fill=\"#000000\">*</text>\n</g>\n<!-- 140239994658448&#45;&gt;140239994647376* -->\n<g id=\"edge9\" class=\"edge\">\n<title>140239994658448&#45;&gt;140239994647376*</title>\n<path fill=\"none\" stroke=\"#000000\" d=\"M207.888,-73.5C218.0786,-73.5 227.8975,-73.5 236.7094,-73.5\"/>\n<polygon fill=\"#000000\" stroke=\"#000000\" points=\"236.9159,-77.0001 246.9159,-73.5 236.9158,-70.0001 236.9159,-77.0001\"/>\n</g>\n<!-- 140239994648272 -->\n<g id=\"node4\" class=\"node\">\n<title>140239994648272</title>\n<polygon fill=\"none\" stroke=\"#000000\" points=\"696,-82.5 696,-118.5 985,-118.5 985,-82.5 696,-82.5\"/>\n<text text-anchor=\"middle\" x=\"752.5\" y=\"-96.8\" font-family=\"Times,serif\" font-size=\"14.00\" fill=\"#000000\">x1*w1 + x2*w2</text>\n<polyline fill=\"none\" stroke=\"#000000\" points=\"809,-82.5 809,-118.5 \"/>\n<text text-anchor=\"middle\" x=\"853.5\" y=\"-96.8\" font-family=\"Times,serif\" font-size=\"14.00\" fill=\"#000000\">data &#45;6.0000</text>\n<polyline fill=\"none\" stroke=\"#000000\" points=\"898,-82.5 898,-118.5 \"/>\n<text text-anchor=\"middle\" x=\"941.5\" y=\"-96.8\" font-family=\"Times,serif\" font-size=\"14.00\" fill=\"#000000\">grad 0.5000</text>\n</g>\n<!-- 140239994648272&#45;&gt;140239994225488+ -->\n<g id=\"edge14\" class=\"edge\">\n<title>140239994648272&#45;&gt;140239994225488+</title>\n<path fill=\"none\" stroke=\"#000000\" d=\"M973.9665,-82.4901C987.5596,-80.6558 1000.4093,-78.9219 1011.4695,-77.4294\"/>\n<polygon fill=\"#000000\" stroke=\"#000000\" points=\"1012.049,-80.883 1021.4911,-76.0771 1011.1128,-73.9459 1012.049,-80.883\"/>\n</g>\n<!-- 140239994648272+ -->\n<g id=\"node5\" class=\"node\">\n<title>140239994648272+</title>\n<ellipse fill=\"none\" stroke=\"#000000\" cx=\"633\" cy=\"-100.5\" rx=\"27\" ry=\"18\"/>\n<text text-anchor=\"middle\" x=\"633\" y=\"-96.8\" font-family=\"Times,serif\" font-size=\"14.00\" fill=\"#000000\">+</text>\n</g>\n<!-- 140239994648272+&#45;&gt;140239994648272 -->\n<g id=\"edge1\" class=\"edge\">\n<title>140239994648272+&#45;&gt;140239994648272</title>\n<path fill=\"none\" stroke=\"#000000\" d=\"M660.127,-100.5C667.628,-100.5 676.3363,-100.5 685.7965,-100.5\"/>\n<polygon fill=\"#000000\" stroke=\"#000000\" points=\"685.9081,-104.0001 695.908,-100.5 685.908,-97.0001 685.9081,-104.0001\"/>\n</g>\n<!-- 140239994086096 -->\n<g id=\"node6\" class=\"node\">\n<title>140239994086096</title>\n<polygon fill=\"none\" stroke=\"#000000\" points=\"2,-110.5 2,-146.5 209,-146.5 209,-110.5 2,-110.5\"/>\n<text text-anchor=\"middle\" x=\"19.5\" y=\"-124.8\" font-family=\"Times,serif\" font-size=\"14.00\" fill=\"#000000\">w2</text>\n<polyline fill=\"none\" stroke=\"#000000\" points=\"37,-110.5 37,-146.5 \"/>\n<text text-anchor=\"middle\" x=\"79.5\" y=\"-124.8\" font-family=\"Times,serif\" font-size=\"14.00\" fill=\"#000000\">data 1.0000</text>\n<polyline fill=\"none\" stroke=\"#000000\" points=\"122,-110.5 122,-146.5 \"/>\n<text text-anchor=\"middle\" x=\"165.5\" y=\"-124.8\" font-family=\"Times,serif\" font-size=\"14.00\" fill=\"#000000\">grad 0.0000</text>\n</g>\n<!-- 140239994086096&#45;&gt;140239994647504* -->\n<g id=\"edge13\" class=\"edge\">\n<title>140239994086096&#45;&gt;140239994647504*</title>\n<path fill=\"none\" stroke=\"#000000\" d=\"M209.3354,-128.5C219.0497,-128.5 228.3963,-128.5 236.8187,-128.5\"/>\n<polygon fill=\"#000000\" stroke=\"#000000\" points=\"236.951,-132.0001 246.9509,-128.5 236.9509,-125.0001 236.951,-132.0001\"/>\n</g>\n<!-- 140239994225616 -->\n<g id=\"node7\" class=\"node\">\n<title>140239994225616</title>\n<polygon fill=\"none\" stroke=\"#000000\" points=\"1433,-54.5 1433,-90.5 1629,-90.5 1629,-54.5 1433,-54.5\"/>\n<text text-anchor=\"middle\" x=\"1445\" y=\"-68.8\" font-family=\"Times,serif\" font-size=\"14.00\" fill=\"#000000\">o</text>\n<polyline fill=\"none\" stroke=\"#000000\" points=\"1457,-54.5 1457,-90.5 \"/>\n<text text-anchor=\"middle\" x=\"1499.5\" y=\"-68.8\" font-family=\"Times,serif\" font-size=\"14.00\" fill=\"#000000\">data 0.7071</text>\n<polyline fill=\"none\" stroke=\"#000000\" points=\"1542,-54.5 1542,-90.5 \"/>\n<text text-anchor=\"middle\" x=\"1585.5\" y=\"-68.8\" font-family=\"Times,serif\" font-size=\"14.00\" fill=\"#000000\">grad 1.0000</text>\n</g>\n<!-- 140239994225616tanh -->\n<g id=\"node8\" class=\"node\">\n<title>140239994225616tanh</title>\n<ellipse fill=\"none\" stroke=\"#000000\" cx=\"1370\" cy=\"-72.5\" rx=\"27\" ry=\"18\"/>\n<text text-anchor=\"middle\" x=\"1370\" y=\"-68.8\" font-family=\"Times,serif\" font-size=\"14.00\" fill=\"#000000\">tanh</text>\n</g>\n<!-- 140239994225616tanh&#45;&gt;140239994225616 -->\n<g id=\"edge2\" class=\"edge\">\n<title>140239994225616tanh&#45;&gt;140239994225616</title>\n<path fill=\"none\" stroke=\"#000000\" d=\"M1397.3115,-72.5C1404.8223,-72.5 1413.4512,-72.5 1422.6318,-72.5\"/>\n<polygon fill=\"#000000\" stroke=\"#000000\" points=\"1422.7835,-76.0001 1432.7835,-72.5 1422.7835,-69.0001 1422.7835,-76.0001\"/>\n</g>\n<!-- 140239994225488 -->\n<g id=\"node9\" class=\"node\">\n<title>140239994225488</title>\n<polygon fill=\"none\" stroke=\"#000000\" points=\"1111,-54.5 1111,-90.5 1307,-90.5 1307,-54.5 1111,-54.5\"/>\n<text text-anchor=\"middle\" x=\"1123\" y=\"-68.8\" font-family=\"Times,serif\" font-size=\"14.00\" fill=\"#000000\">n</text>\n<polyline fill=\"none\" stroke=\"#000000\" points=\"1135,-54.5 1135,-90.5 \"/>\n<text text-anchor=\"middle\" x=\"1177.5\" y=\"-68.8\" font-family=\"Times,serif\" font-size=\"14.00\" fill=\"#000000\">data 0.8814</text>\n<polyline fill=\"none\" stroke=\"#000000\" points=\"1220,-54.5 1220,-90.5 \"/>\n<text text-anchor=\"middle\" x=\"1263.5\" y=\"-68.8\" font-family=\"Times,serif\" font-size=\"14.00\" fill=\"#000000\">grad 0.5000</text>\n</g>\n<!-- 140239994225488&#45;&gt;140239994225616tanh -->\n<g id=\"edge10\" class=\"edge\">\n<title>140239994225488&#45;&gt;140239994225616tanh</title>\n<path fill=\"none\" stroke=\"#000000\" d=\"M1307.2922,-72.5C1316.2042,-72.5 1324.8099,-72.5 1332.6423,-72.5\"/>\n<polygon fill=\"#000000\" stroke=\"#000000\" points=\"1332.7996,-76.0001 1342.7995,-72.5 1332.7995,-69.0001 1332.7996,-76.0001\"/>\n</g>\n<!-- 140239994225488+&#45;&gt;140239994225488 -->\n<g id=\"edge3\" class=\"edge\">\n<title>140239994225488+&#45;&gt;140239994225488</title>\n<path fill=\"none\" stroke=\"#000000\" d=\"M1075.3115,-72.5C1082.8223,-72.5 1091.4512,-72.5 1100.6318,-72.5\"/>\n<polygon fill=\"#000000\" stroke=\"#000000\" points=\"1100.7835,-76.0001 1110.7835,-72.5 1100.7835,-69.0001 1100.7835,-76.0001\"/>\n</g>\n<!-- 140239994647376 -->\n<g id=\"node11\" class=\"node\">\n<title>140239994647376</title>\n<polygon fill=\"none\" stroke=\"#000000\" points=\"337,-55.5 337,-91.5 570,-91.5 570,-55.5 337,-55.5\"/>\n<text text-anchor=\"middle\" x=\"365.5\" y=\"-69.8\" font-family=\"Times,serif\" font-size=\"14.00\" fill=\"#000000\">x1*w1</text>\n<polyline fill=\"none\" stroke=\"#000000\" points=\"394,-55.5 394,-91.5 \"/>\n<text text-anchor=\"middle\" x=\"438.5\" y=\"-69.8\" font-family=\"Times,serif\" font-size=\"14.00\" fill=\"#000000\">data &#45;6.0000</text>\n<polyline fill=\"none\" stroke=\"#000000\" points=\"483,-55.5 483,-91.5 \"/>\n<text text-anchor=\"middle\" x=\"526.5\" y=\"-69.8\" font-family=\"Times,serif\" font-size=\"14.00\" fill=\"#000000\">grad 0.5000</text>\n</g>\n<!-- 140239994647376&#45;&gt;140239994648272+ -->\n<g id=\"edge11\" class=\"edge\">\n<title>140239994647376&#45;&gt;140239994648272+</title>\n<path fill=\"none\" stroke=\"#000000\" d=\"M570.2196,-91.0567C579.5315,-92.4574 588.4163,-93.7938 596.4192,-94.9976\"/>\n<polygon fill=\"#000000\" stroke=\"#000000\" points=\"595.984,-98.4714 606.3934,-96.4979 597.0253,-91.5493 595.984,-98.4714\"/>\n</g>\n<!-- 140239994647376*&#45;&gt;140239994647376 -->\n<g id=\"edge4\" class=\"edge\">\n<title>140239994647376*&#45;&gt;140239994647376</title>\n<path fill=\"none\" stroke=\"#000000\" d=\"M301.2622,-73.5C308.8324,-73.5 317.5801,-73.5 326.9781,-73.5\"/>\n<polygon fill=\"#000000\" stroke=\"#000000\" points=\"326.9853,-77.0001 336.9853,-73.5 326.9852,-70.0001 326.9853,-77.0001\"/>\n</g>\n<!-- 140239994088784 -->\n<g id=\"node13\" class=\"node\">\n<title>140239994088784</title>\n<polygon fill=\"none\" stroke=\"#000000\" points=\"0,-.5 0,-36.5 211,-36.5 211,-.5 0,-.5\"/>\n<text text-anchor=\"middle\" x=\"17.5\" y=\"-14.8\" font-family=\"Times,serif\" font-size=\"14.00\" fill=\"#000000\">w1</text>\n<polyline fill=\"none\" stroke=\"#000000\" points=\"35,-.5 35,-36.5 \"/>\n<text text-anchor=\"middle\" x=\"79.5\" y=\"-14.8\" font-family=\"Times,serif\" font-size=\"14.00\" fill=\"#000000\">data &#45;3.0000</text>\n<polyline fill=\"none\" stroke=\"#000000\" points=\"124,-.5 124,-36.5 \"/>\n<text text-anchor=\"middle\" x=\"167.5\" y=\"-14.8\" font-family=\"Times,serif\" font-size=\"14.00\" fill=\"#000000\">grad 0.0000</text>\n</g>\n<!-- 140239994088784&#45;&gt;140239994647376* -->\n<g id=\"edge7\" class=\"edge\">\n<title>140239994088784&#45;&gt;140239994647376*</title>\n<path fill=\"none\" stroke=\"#000000\" d=\"M179.1277,-36.5688C189.8946,-39.636 200.7889,-42.9778 211,-46.5 221.4855,-50.1168 232.6874,-54.6793 242.694,-59.0193\"/>\n<polygon fill=\"#000000\" stroke=\"#000000\" points=\"241.2981,-62.229 251.8592,-63.0741 244.1302,-55.8274 241.2981,-62.229\"/>\n</g>\n<!-- 140239994647504 -->\n<g id=\"node14\" class=\"node\">\n<title>140239994647504</title>\n<polygon fill=\"none\" stroke=\"#000000\" points=\"339,-110.5 339,-146.5 568,-146.5 568,-110.5 339,-110.5\"/>\n<text text-anchor=\"middle\" x=\"367.5\" y=\"-124.8\" font-family=\"Times,serif\" font-size=\"14.00\" fill=\"#000000\">x2*w2</text>\n<polyline fill=\"none\" stroke=\"#000000\" points=\"396,-110.5 396,-146.5 \"/>\n<text text-anchor=\"middle\" x=\"438.5\" y=\"-124.8\" font-family=\"Times,serif\" font-size=\"14.00\" fill=\"#000000\">data 0.0000</text>\n<polyline fill=\"none\" stroke=\"#000000\" points=\"481,-110.5 481,-146.5 \"/>\n<text text-anchor=\"middle\" x=\"524.5\" y=\"-124.8\" font-family=\"Times,serif\" font-size=\"14.00\" fill=\"#000000\">grad 0.5000</text>\n</g>\n<!-- 140239994647504&#45;&gt;140239994648272+ -->\n<g id=\"edge12\" class=\"edge\">\n<title>140239994647504&#45;&gt;140239994648272+</title>\n<path fill=\"none\" stroke=\"#000000\" d=\"M568.1964,-110.6086C578.3568,-109.0237 588.0538,-107.5111 596.7076,-106.1612\"/>\n<polygon fill=\"#000000\" stroke=\"#000000\" points=\"597.3659,-109.6009 606.7069,-104.6014 596.2869,-102.6846 597.3659,-109.6009\"/>\n</g>\n<!-- 140239994647504*&#45;&gt;140239994647504 -->\n<g id=\"edge5\" class=\"edge\">\n<title>140239994647504*&#45;&gt;140239994647504</title>\n<path fill=\"none\" stroke=\"#000000\" d=\"M301.2622,-128.5C309.2798,-128.5 318.6183,-128.5 328.6514,-128.5\"/>\n<polygon fill=\"#000000\" stroke=\"#000000\" points=\"328.8929,-132.0001 338.8928,-128.5 328.8928,-125.0001 328.8929,-132.0001\"/>\n</g>\n</g>\n</svg>\n"
          },
          "metadata": {},
          "execution_count": 76
        }
      ]
    },
    {
      "cell_type": "markdown",
      "source": [
        "# Quick intro to neurons\n",
        "A quick intro to neurons and its basic biological and mathematical modelling can be found on the [cs231n Lecture Page](https://cs231n.github.io/neural-networks-1/) by Stanford university."
      ],
      "metadata": {
        "id": "TjxcqCslCnDr"
      },
      "id": "TjxcqCslCnDr"
    },
    {
      "cell_type": "markdown",
      "source": [
        "![neuron_model.jpeg](data:image/jpeg;base64,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)"
      ],
      "metadata": {
        "id": "sZhDmaMpE-k8"
      },
      "id": "sZhDmaMpE-k8"
    },
    {
      "cell_type": "code",
      "source": [
        "# example of the tanh activation function\n",
        "plt.plot(np.arange(-5,5,0.2), np.tanh(np.arange(-5,5,0.2))); plt.grid()"
      ],
      "metadata": {
        "id": "iV9NNQtgFBqj",
        "outputId": "f13c51bc-dc12-4be6-e6dd-f31c6df3751b",
        "colab": {
          "base_uri": "https://localhost:8080/",
          "height": 265
        }
      },
      "id": "iV9NNQtgFBqj",
      "execution_count": 14,
      "outputs": [
        {
          "output_type": "display_data",
          "data": {
            "text/plain": [
              "<Figure size 432x288 with 1 Axes>"
            ],
            "image/png": "[encoded data removed]"
          },
          "metadata": {
            "needs_background": "light"
          }
        }
      ]
    },
    {
      "cell_type": "markdown",
      "source": [
        "As shown the ``tanh`` function squashes a given input inbetween $-1.0$ and $1.0$. Also see [Hyperbolic functions](https://en.wikipedia.org/wiki/Hyperbolic_functions)"
      ],
      "metadata": {
        "id": "1xI5ecniGIUP"
      },
      "id": "1xI5ecniGIUP"
    }
  ],
  "metadata": {
    "kernelspec": {
      "display_name": "Python 3 (ipykernel)",
      "language": "python",
      "name": "python3"
    },
    "language_info": {
      "codemirror_mode": {
        "name": "ipython",
        "version": 3
      },
      "file_extension": ".py",
      "mimetype": "text/x-python",
      "name": "python",
      "nbconvert_exporter": "python",
      "pygments_lexer": "ipython3",
      "version": "3.9.7"
    },
    "colab": {
      "provenance": [],
      "include_colab_link": true
    }
  },
  "nbformat": 4,
  "nbformat_minor": 5
}