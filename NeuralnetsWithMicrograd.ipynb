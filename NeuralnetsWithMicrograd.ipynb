{
 "cells": [
  {
   "cell_type": "markdown",
   "id": "be0cf6ce-3046-4482-adf9-af442d6e89a8",
   "metadata": {},
   "source": [
    "# Neural nets with micrograd\n",
    "This is a Notebook to the free lecture [The spelled-out intro to neural networks and backpropagation: building micrograd](https://youtu.be/VMj-3S1tku0) by [Andrey Karpathy](https://github.com/karpathy)."
   ]
  },
  {
   "cell_type": "code",
   "execution_count": null,
   "id": "234da7e8-2a8b-4a93-a5ad-ef80adba1fee",
   "metadata": {},
   "outputs": [],
   "source": []
  }
 ],
 "metadata": {
  "kernelspec": {
   "display_name": "Python 3 (ipykernel)",
   "language": "python",
   "name": "python3"
  },
  "language_info": {
   "codemirror_mode": {
    "name": "ipython",
    "version": 3
   },
   "file_extension": ".py",
   "mimetype": "text/x-python",
   "name": "python",
   "nbconvert_exporter": "python",
   "pygments_lexer": "ipython3",
   "version": "3.9.7"
  }
 },
 "nbformat": 4,
 "nbformat_minor": 5
}
